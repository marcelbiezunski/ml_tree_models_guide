{
 "cells": [
  {
   "cell_type": "markdown",
   "id": "0e125a31",
   "metadata": {
    "papermill": {
     "duration": 0.00948,
     "end_time": "2025-08-13T22:50:51.118287",
     "exception": false,
     "start_time": "2025-08-13T22:50:51.108807",
     "status": "completed"
    },
    "tags": []
   },
   "source": [
    "### 📢 Don't forget to upvote if you enjoy my work :)\n",
    "\n",
    "# Introduction\n",
    "In this notebook, I aim to provide a beginner-friendly introduction to **Decision Trees** - powerful and widely-used algorithms for solving classification and regression problems.\n",
    "We'll cover basic theory behind these models, explore how and when to use them, and walk through hands-on examples using real-world datasets\n",
    "\n",
    "## What is a predictive model?\n",
    "A predictive model is a machine learning algorithm trained on historical data to make predictions about unseen or future data. These models learn patterns or relationships between input features (like age, income, temperature) and target variables (such as \"Will a customer buy?\" or \"What will the temperature be tomorrow?\").\n",
    "## Why use Decision Trees and Random Forests?\n",
    "Decision Trees and Random Forests are especially useful when:\n",
    "- You’re working with tabular data (columns and rows, like spreadsheets or CSV files),\n",
    "- You want interpretable results (trees are easy to visualize and understand),\n",
    "- You don’t want to worry too much about data scaling or normalization,\n",
    "- You want a quick and effective baseline model,\n",
    "- Your data contains a mix of numerical and categorical features.\n",
    "\n",
    "These models are also quite robust to outliers and missing values, and Random Forest in particular tend to perform well out of the box on many real-world problems."
   ]
  },
  {
   "cell_type": "markdown",
   "id": "ca8da9aa",
   "metadata": {
    "papermill": {
     "duration": 0.007837,
     "end_time": "2025-08-13T22:50:51.136202",
     "exception": false,
     "start_time": "2025-08-13T22:50:51.128365",
     "status": "completed"
    },
    "tags": []
   },
   "source": [
    "# Decision Tree - Theory\n",
    "A Decision Tree is a supervised machine learning algorithm used for both classification and regression tasks. It splits data into smaller and smaller subsets based on feature values, creating a tree-like model of decisions.\n",
    "\n",
    "At each step (called a node), the algorithm chooses the feature and value that best splits the data to improve prediction accuracy. The result is a set of if-then decision rules.\n",
    "\n",
    "## How does it work?\n",
    "- The tree starts at the root node, containing the full dataset.\n",
    "- At each node, the algorithm selects a feature and threshold that produces the best possible split based on a chosen metric.\n",
    "- This splitting continues recursively creating branches, until stopping criteria are met (like reaching max_depth or a minimum number of samples).\n",
    "- For classification, a prediction is made by majority vote in a leaf node; for regression, by computing the mean value.\n",
    "\n",
    "## Common split criteria:\n",
    "- Gini Impurity (default for classification in sklearn)\n",
    "- Entropy (information gain)\n",
    "- Mean Squared Error (for regression)\n",
    "\n",
    "## Underfitting and Overfitting\n",
    "- A shallow tree may underfit — it’s too simple to capture the underlying patterns.\n",
    "- A deep tree (high depth, many nodes) can overfit the training data — it memorizes patterns, including noise, and performs poorly on unseen data.\n",
    "- The goal is to find the right balance using proper depth and constraints.\n",
    "\n",
    "## Pros and cons of Decision Trees\n",
    "Pros:\n",
    "- Easy to understand and visualize\n",
    "- Can handle both numerical and categorical features\n",
    "- No need to normalize or scale features\n",
    "- Handles missing values and outliers relatively well\n",
    "\n",
    "Cons:\n",
    "- Can easily overfit\n",
    "- Sensitive to small changes in data (high variance)\n",
    "- Greedy splitting may not always lead to the globally optimal tree structure\n",
    "- Performance can be lower compared to ensemble models like Random Forest"
   ]
  },
  {
   "cell_type": "markdown",
   "id": "911d2297",
   "metadata": {
    "papermill": {
     "duration": 0.0084,
     "end_time": "2025-08-13T22:50:51.152313",
     "exception": false,
     "start_time": "2025-08-13T22:50:51.143913",
     "status": "completed"
    },
    "tags": []
   },
   "source": [
    "# Decision Tree - Implementation in Scikit-Learn\n",
    "### To use a Decision Tree in Python, you can import it from sklearn.tree:"
   ]
  },
  {
   "cell_type": "code",
   "execution_count": 1,
   "id": "8254dc3f",
   "metadata": {
    "execution": {
     "iopub.execute_input": "2025-08-13T22:50:51.169172Z",
     "iopub.status.busy": "2025-08-13T22:50:51.168865Z",
     "iopub.status.idle": "2025-08-13T22:50:53.680088Z",
     "shell.execute_reply": "2025-08-13T22:50:53.679293Z"
    },
    "papermill": {
     "duration": 2.521839,
     "end_time": "2025-08-13T22:50:53.681975",
     "exception": false,
     "start_time": "2025-08-13T22:50:51.160136",
     "status": "completed"
    },
    "tags": []
   },
   "outputs": [],
   "source": [
    "from sklearn.tree import DecisionTreeClassifier #for classification problems\n",
    "from sklearn.tree import DecisionTreeRegressor #for regression problems"
   ]
  },
  {
   "cell_type": "markdown",
   "id": "9dc2fe41",
   "metadata": {
    "papermill": {
     "duration": 0.007685,
     "end_time": "2025-08-13T22:50:53.698025",
     "exception": false,
     "start_time": "2025-08-13T22:50:53.690340",
     "status": "completed"
    },
    "tags": []
   },
   "source": [
    "## Key Parameters\n",
    "- criterion - function to measure the quality of a split (typically: 'gini' or 'entropy')\n",
    "- splitter - strategy to choose the split at each node ('best' or 'random')\n",
    "- max_depth - maximum depth of the tree, limits overfitting\n",
    "- min_samples_split - minimum number of samples required to split an internal node\n",
    "- min_samples_leaf - minimum number of samples required to be at a leaf node\n",
    "- min_weight_fraction_leaf - minimum weighted fraction of the total sum of weights in a leaf\n",
    "- max_features - number of features to consider when looking for the best split\n",
    "- random_state - controls randomness for reproducibility\n",
    "- max_leaf_nodes - maximum number of leaf nodes\n",
    "- min_impurity_decrease - minimum impurity decrease required to make a split\n",
    "- class_weight - weights associated with classes (only for classification)\n",
    "- ccp_alpha - complexity parameter for Minimal Cost-Complexity Pruning\n",
    "\n",
    "Most commonly tuned parameters for starters:\n",
    "- max_depth\n",
    "- min_samples_leaf\n",
    "- max_leaf_nodes\n",
    "- ccp_alpha\n",
    "- class_weight (only for classification)\n",
    "- criterion\n",
    "\n",
    "\n",
    "Which parameters should you set?\n",
    "- Start with default values, but tune max_depth, min_samples_split, and min_samples_leaf to reduce overfitting.\n",
    "- If your dataset is imbalanced, set class_weight='balanced'.\n",
    "- Use random_state for consistent results when experimenting."
   ]
  },
  {
   "cell_type": "code",
   "execution_count": 2,
   "id": "33ac3cad",
   "metadata": {
    "_kg_hide-output": true,
    "execution": {
     "iopub.execute_input": "2025-08-13T22:50:53.715699Z",
     "iopub.status.busy": "2025-08-13T22:50:53.715243Z",
     "iopub.status.idle": "2025-08-13T22:50:53.722539Z",
     "shell.execute_reply": "2025-08-13T22:50:53.721572Z"
    },
    "papermill": {
     "duration": 0.01779,
     "end_time": "2025-08-13T22:50:53.724002",
     "exception": false,
     "start_time": "2025-08-13T22:50:53.706212",
     "status": "completed"
    },
    "tags": []
   },
   "outputs": [
    {
     "data": {
      "text/plain": [
       "\"\\n    criterion='squared_error',\\n    splitter='best',\\n    max_depth=None,\\n    min_samples_split=2,\\n    min_samples_leaf=1,\\n    min_weight_fraction_leaf=0.0,\\n    max_features=None,\\n    random_state=None,\\n    max_leaf_nodes=None,\\n    min_impurity_decrease=0.0,\\n    ccp_alpha=0.0,\\n\""
      ]
     },
     "execution_count": 2,
     "metadata": {},
     "output_type": "execute_result"
    }
   ],
   "source": [
    "#DecisionTreeRegressor?\n",
    "'''\n",
    "    criterion='squared_error',\n",
    "    splitter='best',\n",
    "    max_depth=None,\n",
    "    min_samples_split=2,\n",
    "    min_samples_leaf=1,\n",
    "    min_weight_fraction_leaf=0.0,\n",
    "    max_features=None,\n",
    "    random_state=None,\n",
    "    max_leaf_nodes=None,\n",
    "    min_impurity_decrease=0.0,\n",
    "    ccp_alpha=0.0,\n",
    "'''"
   ]
  },
  {
   "cell_type": "code",
   "execution_count": 3,
   "id": "66c397bd",
   "metadata": {
    "_kg_hide-output": true,
    "execution": {
     "iopub.execute_input": "2025-08-13T22:50:53.741456Z",
     "iopub.status.busy": "2025-08-13T22:50:53.741036Z",
     "iopub.status.idle": "2025-08-13T22:50:53.746769Z",
     "shell.execute_reply": "2025-08-13T22:50:53.745959Z"
    },
    "papermill": {
     "duration": 0.015937,
     "end_time": "2025-08-13T22:50:53.748172",
     "exception": false,
     "start_time": "2025-08-13T22:50:53.732235",
     "status": "completed"
    },
    "tags": []
   },
   "outputs": [
    {
     "data": {
      "text/plain": [
       "\"\\n    criterion='gini',\\n    splitter='best',\\n    max_depth=None,\\n    min_samples_split=2,\\n    min_samples_leaf=1,\\n    min_weight_fraction_leaf=0.0,\\n    max_features=None,\\n    random_state=None,\\n    max_leaf_nodes=None,\\n    min_impurity_decrease=0.0,\\n    class_weight=None,\\n    ccp_alpha=0.0,\\n\""
      ]
     },
     "execution_count": 3,
     "metadata": {},
     "output_type": "execute_result"
    }
   ],
   "source": [
    "#DecisionTreeClassifier?\n",
    "'''\n",
    "    criterion='gini',\n",
    "    splitter='best',\n",
    "    max_depth=None,\n",
    "    min_samples_split=2,\n",
    "    min_samples_leaf=1,\n",
    "    min_weight_fraction_leaf=0.0,\n",
    "    max_features=None,\n",
    "    random_state=None,\n",
    "    max_leaf_nodes=None,\n",
    "    min_impurity_decrease=0.0,\n",
    "    class_weight=None,\n",
    "    ccp_alpha=0.0,\n",
    "'''"
   ]
  },
  {
   "cell_type": "markdown",
   "id": "2617d373",
   "metadata": {
    "papermill": {
     "duration": 0.00803,
     "end_time": "2025-08-13T22:50:53.764364",
     "exception": false,
     "start_time": "2025-08-13T22:50:53.756334",
     "status": "completed"
    },
    "tags": []
   },
   "source": [
    "# Decision Tree Classifier - Mushroom Dataset\n",
    "The Mushroom Classification Dataset is a well-known dataset from the UCI Machine Learning Repository. It contains descriptions of hypothetical samples of mushrooms, each classified as either **edible** or **poisonous**. The goal is to build a model that can accurately predict whether a mushroom is safe to eat based on its physical characteristics.\n",
    "- Number of samples: 8124 mushrooms\n",
    "- Target variable: e - edible, p - poisonous\n",
    "- Features (all categorical)\n",
    "  Examples include:\n",
    "  - cap-shape (bell, conical, convex, flat, knobbed, sunken)\n",
    "  - cap-color (brown, buff, cinnamon, gray, green, pink, purple, red, white, yellow)\n",
    "  - odor (almond, anise, foul, none, pungent, spicy, fishy, musty)\n",
    "  - gill-size, gill-color\n",
    "  - stalk-shape, stalk-surface\n",
    "  - habitat (woods, meadows, urban, etc.)\n",
    "## Objective\n",
    "We will train a DecisionTreeClassifier to learn patterns in these categorical features and determine whether a mushroom is edible or poisonous. Since all features are categorical, they need to be encoded before fitting the model. The dataset is relatively clean, with no missing values, which makes it ideal for demonstrating classification concepts.\n",
    "## Why this dataset?\n",
    "- Easy to understand: clear binary classification task.\n",
    "- Interpretable results: decision trees provide human-readable decision rules.\n",
    "- High accuracy potential: many features are strongly correlated with edibility, making it a great example of how decision trees can capture complex patterns."
   ]
  },
  {
   "cell_type": "markdown",
   "id": "dabe630b",
   "metadata": {
    "papermill": {
     "duration": 0.007941,
     "end_time": "2025-08-13T22:50:53.781369",
     "exception": false,
     "start_time": "2025-08-13T22:50:53.773428",
     "status": "completed"
    },
    "tags": []
   },
   "source": [
    "## Import Libraries & Load Dataset\n",
    "### First, we import the necessary libraries for data handling, visualisation and modeling. We also load the Mushroom dataset and take a fist look."
   ]
  },
  {
   "cell_type": "code",
   "execution_count": 4,
   "id": "09a20ff4",
   "metadata": {
    "execution": {
     "iopub.execute_input": "2025-08-13T22:50:53.799989Z",
     "iopub.status.busy": "2025-08-13T22:50:53.799659Z",
     "iopub.status.idle": "2025-08-13T22:50:56.703300Z",
     "shell.execute_reply": "2025-08-13T22:50:56.702389Z"
    },
    "papermill": {
     "duration": 2.915288,
     "end_time": "2025-08-13T22:50:56.704870",
     "exception": false,
     "start_time": "2025-08-13T22:50:53.789582",
     "status": "completed"
    },
    "tags": []
   },
   "outputs": [
    {
     "data": {
      "text/html": [
       "<div>\n",
       "<style scoped>\n",
       "    .dataframe tbody tr th:only-of-type {\n",
       "        vertical-align: middle;\n",
       "    }\n",
       "\n",
       "    .dataframe tbody tr th {\n",
       "        vertical-align: top;\n",
       "    }\n",
       "\n",
       "    .dataframe thead th {\n",
       "        text-align: right;\n",
       "    }\n",
       "</style>\n",
       "<table border=\"1\" class=\"dataframe\">\n",
       "  <thead>\n",
       "    <tr style=\"text-align: right;\">\n",
       "      <th></th>\n",
       "      <th>class</th>\n",
       "      <th>cap-shape</th>\n",
       "      <th>cap-surface</th>\n",
       "      <th>cap-color</th>\n",
       "      <th>bruises</th>\n",
       "      <th>odor</th>\n",
       "      <th>gill-attachment</th>\n",
       "      <th>gill-spacing</th>\n",
       "      <th>gill-size</th>\n",
       "      <th>gill-color</th>\n",
       "      <th>...</th>\n",
       "      <th>stalk-surface-below-ring</th>\n",
       "      <th>stalk-color-above-ring</th>\n",
       "      <th>stalk-color-below-ring</th>\n",
       "      <th>veil-type</th>\n",
       "      <th>veil-color</th>\n",
       "      <th>ring-number</th>\n",
       "      <th>ring-type</th>\n",
       "      <th>spore-print-color</th>\n",
       "      <th>population</th>\n",
       "      <th>habitat</th>\n",
       "    </tr>\n",
       "  </thead>\n",
       "  <tbody>\n",
       "    <tr>\n",
       "      <th>0</th>\n",
       "      <td>p</td>\n",
       "      <td>x</td>\n",
       "      <td>s</td>\n",
       "      <td>n</td>\n",
       "      <td>t</td>\n",
       "      <td>p</td>\n",
       "      <td>f</td>\n",
       "      <td>c</td>\n",
       "      <td>n</td>\n",
       "      <td>k</td>\n",
       "      <td>...</td>\n",
       "      <td>s</td>\n",
       "      <td>w</td>\n",
       "      <td>w</td>\n",
       "      <td>p</td>\n",
       "      <td>w</td>\n",
       "      <td>o</td>\n",
       "      <td>p</td>\n",
       "      <td>k</td>\n",
       "      <td>s</td>\n",
       "      <td>u</td>\n",
       "    </tr>\n",
       "    <tr>\n",
       "      <th>1</th>\n",
       "      <td>e</td>\n",
       "      <td>x</td>\n",
       "      <td>s</td>\n",
       "      <td>y</td>\n",
       "      <td>t</td>\n",
       "      <td>a</td>\n",
       "      <td>f</td>\n",
       "      <td>c</td>\n",
       "      <td>b</td>\n",
       "      <td>k</td>\n",
       "      <td>...</td>\n",
       "      <td>s</td>\n",
       "      <td>w</td>\n",
       "      <td>w</td>\n",
       "      <td>p</td>\n",
       "      <td>w</td>\n",
       "      <td>o</td>\n",
       "      <td>p</td>\n",
       "      <td>n</td>\n",
       "      <td>n</td>\n",
       "      <td>g</td>\n",
       "    </tr>\n",
       "    <tr>\n",
       "      <th>2</th>\n",
       "      <td>e</td>\n",
       "      <td>b</td>\n",
       "      <td>s</td>\n",
       "      <td>w</td>\n",
       "      <td>t</td>\n",
       "      <td>l</td>\n",
       "      <td>f</td>\n",
       "      <td>c</td>\n",
       "      <td>b</td>\n",
       "      <td>n</td>\n",
       "      <td>...</td>\n",
       "      <td>s</td>\n",
       "      <td>w</td>\n",
       "      <td>w</td>\n",
       "      <td>p</td>\n",
       "      <td>w</td>\n",
       "      <td>o</td>\n",
       "      <td>p</td>\n",
       "      <td>n</td>\n",
       "      <td>n</td>\n",
       "      <td>m</td>\n",
       "    </tr>\n",
       "    <tr>\n",
       "      <th>3</th>\n",
       "      <td>p</td>\n",
       "      <td>x</td>\n",
       "      <td>y</td>\n",
       "      <td>w</td>\n",
       "      <td>t</td>\n",
       "      <td>p</td>\n",
       "      <td>f</td>\n",
       "      <td>c</td>\n",
       "      <td>n</td>\n",
       "      <td>n</td>\n",
       "      <td>...</td>\n",
       "      <td>s</td>\n",
       "      <td>w</td>\n",
       "      <td>w</td>\n",
       "      <td>p</td>\n",
       "      <td>w</td>\n",
       "      <td>o</td>\n",
       "      <td>p</td>\n",
       "      <td>k</td>\n",
       "      <td>s</td>\n",
       "      <td>u</td>\n",
       "    </tr>\n",
       "    <tr>\n",
       "      <th>4</th>\n",
       "      <td>e</td>\n",
       "      <td>x</td>\n",
       "      <td>s</td>\n",
       "      <td>g</td>\n",
       "      <td>f</td>\n",
       "      <td>n</td>\n",
       "      <td>f</td>\n",
       "      <td>w</td>\n",
       "      <td>b</td>\n",
       "      <td>k</td>\n",
       "      <td>...</td>\n",
       "      <td>s</td>\n",
       "      <td>w</td>\n",
       "      <td>w</td>\n",
       "      <td>p</td>\n",
       "      <td>w</td>\n",
       "      <td>o</td>\n",
       "      <td>e</td>\n",
       "      <td>n</td>\n",
       "      <td>a</td>\n",
       "      <td>g</td>\n",
       "    </tr>\n",
       "  </tbody>\n",
       "</table>\n",
       "<p>5 rows × 23 columns</p>\n",
       "</div>"
      ],
      "text/plain": [
       "  class cap-shape cap-surface cap-color bruises odor gill-attachment  \\\n",
       "0     p         x           s         n       t    p               f   \n",
       "1     e         x           s         y       t    a               f   \n",
       "2     e         b           s         w       t    l               f   \n",
       "3     p         x           y         w       t    p               f   \n",
       "4     e         x           s         g       f    n               f   \n",
       "\n",
       "  gill-spacing gill-size gill-color  ... stalk-surface-below-ring  \\\n",
       "0            c         n          k  ...                        s   \n",
       "1            c         b          k  ...                        s   \n",
       "2            c         b          n  ...                        s   \n",
       "3            c         n          n  ...                        s   \n",
       "4            w         b          k  ...                        s   \n",
       "\n",
       "  stalk-color-above-ring stalk-color-below-ring veil-type veil-color  \\\n",
       "0                      w                      w         p          w   \n",
       "1                      w                      w         p          w   \n",
       "2                      w                      w         p          w   \n",
       "3                      w                      w         p          w   \n",
       "4                      w                      w         p          w   \n",
       "\n",
       "  ring-number ring-type spore-print-color population habitat  \n",
       "0           o         p                 k          s       u  \n",
       "1           o         p                 n          n       g  \n",
       "2           o         p                 n          n       m  \n",
       "3           o         p                 k          s       u  \n",
       "4           o         e                 n          a       g  \n",
       "\n",
       "[5 rows x 23 columns]"
      ]
     },
     "execution_count": 4,
     "metadata": {},
     "output_type": "execute_result"
    }
   ],
   "source": [
    "import pandas as pd\n",
    "import numpy as np\n",
    "import matplotlib.pyplot as plt\n",
    "import seaborn as sns\n",
    "\n",
    "from sklearn.model_selection import train_test_split\n",
    "from sklearn.tree import DecisionTreeClassifier\n",
    "from sklearn.metrics import accuracy_score, confusion_matrix, classification_report\n",
    "\n",
    "mushroom_dataset_url = '/kaggle/input/mushroom-classification/mushrooms.csv'\n",
    "df = pd.read_csv(mushroom_dataset_url)\n",
    "df.head()"
   ]
  },
  {
   "cell_type": "markdown",
   "id": "6399ef87",
   "metadata": {
    "papermill": {
     "duration": 0.007993,
     "end_time": "2025-08-13T22:50:56.721472",
     "exception": false,
     "start_time": "2025-08-13T22:50:56.713479",
     "status": "completed"
    },
    "tags": []
   },
   "source": [
    "## Exploratory Data Analysis (EDA)\n",
    "### Quick check of the dataset info, basic statistics and missing values:"
   ]
  },
  {
   "cell_type": "code",
   "execution_count": 5,
   "id": "d984d5c7",
   "metadata": {
    "execution": {
     "iopub.execute_input": "2025-08-13T22:50:56.739428Z",
     "iopub.status.busy": "2025-08-13T22:50:56.739072Z",
     "iopub.status.idle": "2025-08-13T22:50:56.779487Z",
     "shell.execute_reply": "2025-08-13T22:50:56.778133Z"
    },
    "papermill": {
     "duration": 0.051631,
     "end_time": "2025-08-13T22:50:56.781411",
     "exception": false,
     "start_time": "2025-08-13T22:50:56.729780",
     "status": "completed"
    },
    "tags": []
   },
   "outputs": [
    {
     "name": "stdout",
     "output_type": "stream",
     "text": [
      "<class 'pandas.core.frame.DataFrame'>\n",
      "RangeIndex: 8124 entries, 0 to 8123\n",
      "Data columns (total 23 columns):\n",
      " #   Column                    Non-Null Count  Dtype \n",
      "---  ------                    --------------  ----- \n",
      " 0   class                     8124 non-null   object\n",
      " 1   cap-shape                 8124 non-null   object\n",
      " 2   cap-surface               8124 non-null   object\n",
      " 3   cap-color                 8124 non-null   object\n",
      " 4   bruises                   8124 non-null   object\n",
      " 5   odor                      8124 non-null   object\n",
      " 6   gill-attachment           8124 non-null   object\n",
      " 7   gill-spacing              8124 non-null   object\n",
      " 8   gill-size                 8124 non-null   object\n",
      " 9   gill-color                8124 non-null   object\n",
      " 10  stalk-shape               8124 non-null   object\n",
      " 11  stalk-root                8124 non-null   object\n",
      " 12  stalk-surface-above-ring  8124 non-null   object\n",
      " 13  stalk-surface-below-ring  8124 non-null   object\n",
      " 14  stalk-color-above-ring    8124 non-null   object\n",
      " 15  stalk-color-below-ring    8124 non-null   object\n",
      " 16  veil-type                 8124 non-null   object\n",
      " 17  veil-color                8124 non-null   object\n",
      " 18  ring-number               8124 non-null   object\n",
      " 19  ring-type                 8124 non-null   object\n",
      " 20  spore-print-color         8124 non-null   object\n",
      " 21  population                8124 non-null   object\n",
      " 22  habitat                   8124 non-null   object\n",
      "dtypes: object(23)\n",
      "memory usage: 1.4+ MB\n"
     ]
    }
   ],
   "source": [
    "df.info()"
   ]
  },
  {
   "cell_type": "code",
   "execution_count": 6,
   "id": "3270fc1b",
   "metadata": {
    "execution": {
     "iopub.execute_input": "2025-08-13T22:50:56.800577Z",
     "iopub.status.busy": "2025-08-13T22:50:56.800137Z",
     "iopub.status.idle": "2025-08-13T22:50:56.853837Z",
     "shell.execute_reply": "2025-08-13T22:50:56.852934Z"
    },
    "papermill": {
     "duration": 0.065165,
     "end_time": "2025-08-13T22:50:56.855458",
     "exception": false,
     "start_time": "2025-08-13T22:50:56.790293",
     "status": "completed"
    },
    "tags": []
   },
   "outputs": [
    {
     "data": {
      "text/html": [
       "<div>\n",
       "<style scoped>\n",
       "    .dataframe tbody tr th:only-of-type {\n",
       "        vertical-align: middle;\n",
       "    }\n",
       "\n",
       "    .dataframe tbody tr th {\n",
       "        vertical-align: top;\n",
       "    }\n",
       "\n",
       "    .dataframe thead th {\n",
       "        text-align: right;\n",
       "    }\n",
       "</style>\n",
       "<table border=\"1\" class=\"dataframe\">\n",
       "  <thead>\n",
       "    <tr style=\"text-align: right;\">\n",
       "      <th></th>\n",
       "      <th>count</th>\n",
       "      <th>unique</th>\n",
       "      <th>top</th>\n",
       "      <th>freq</th>\n",
       "    </tr>\n",
       "  </thead>\n",
       "  <tbody>\n",
       "    <tr>\n",
       "      <th>class</th>\n",
       "      <td>8124</td>\n",
       "      <td>2</td>\n",
       "      <td>e</td>\n",
       "      <td>4208</td>\n",
       "    </tr>\n",
       "    <tr>\n",
       "      <th>cap-shape</th>\n",
       "      <td>8124</td>\n",
       "      <td>6</td>\n",
       "      <td>x</td>\n",
       "      <td>3656</td>\n",
       "    </tr>\n",
       "    <tr>\n",
       "      <th>cap-surface</th>\n",
       "      <td>8124</td>\n",
       "      <td>4</td>\n",
       "      <td>y</td>\n",
       "      <td>3244</td>\n",
       "    </tr>\n",
       "    <tr>\n",
       "      <th>cap-color</th>\n",
       "      <td>8124</td>\n",
       "      <td>10</td>\n",
       "      <td>n</td>\n",
       "      <td>2284</td>\n",
       "    </tr>\n",
       "    <tr>\n",
       "      <th>bruises</th>\n",
       "      <td>8124</td>\n",
       "      <td>2</td>\n",
       "      <td>f</td>\n",
       "      <td>4748</td>\n",
       "    </tr>\n",
       "    <tr>\n",
       "      <th>odor</th>\n",
       "      <td>8124</td>\n",
       "      <td>9</td>\n",
       "      <td>n</td>\n",
       "      <td>3528</td>\n",
       "    </tr>\n",
       "    <tr>\n",
       "      <th>gill-attachment</th>\n",
       "      <td>8124</td>\n",
       "      <td>2</td>\n",
       "      <td>f</td>\n",
       "      <td>7914</td>\n",
       "    </tr>\n",
       "    <tr>\n",
       "      <th>gill-spacing</th>\n",
       "      <td>8124</td>\n",
       "      <td>2</td>\n",
       "      <td>c</td>\n",
       "      <td>6812</td>\n",
       "    </tr>\n",
       "    <tr>\n",
       "      <th>gill-size</th>\n",
       "      <td>8124</td>\n",
       "      <td>2</td>\n",
       "      <td>b</td>\n",
       "      <td>5612</td>\n",
       "    </tr>\n",
       "    <tr>\n",
       "      <th>gill-color</th>\n",
       "      <td>8124</td>\n",
       "      <td>12</td>\n",
       "      <td>b</td>\n",
       "      <td>1728</td>\n",
       "    </tr>\n",
       "    <tr>\n",
       "      <th>stalk-shape</th>\n",
       "      <td>8124</td>\n",
       "      <td>2</td>\n",
       "      <td>t</td>\n",
       "      <td>4608</td>\n",
       "    </tr>\n",
       "    <tr>\n",
       "      <th>stalk-root</th>\n",
       "      <td>8124</td>\n",
       "      <td>5</td>\n",
       "      <td>b</td>\n",
       "      <td>3776</td>\n",
       "    </tr>\n",
       "    <tr>\n",
       "      <th>stalk-surface-above-ring</th>\n",
       "      <td>8124</td>\n",
       "      <td>4</td>\n",
       "      <td>s</td>\n",
       "      <td>5176</td>\n",
       "    </tr>\n",
       "    <tr>\n",
       "      <th>stalk-surface-below-ring</th>\n",
       "      <td>8124</td>\n",
       "      <td>4</td>\n",
       "      <td>s</td>\n",
       "      <td>4936</td>\n",
       "    </tr>\n",
       "    <tr>\n",
       "      <th>stalk-color-above-ring</th>\n",
       "      <td>8124</td>\n",
       "      <td>9</td>\n",
       "      <td>w</td>\n",
       "      <td>4464</td>\n",
       "    </tr>\n",
       "    <tr>\n",
       "      <th>stalk-color-below-ring</th>\n",
       "      <td>8124</td>\n",
       "      <td>9</td>\n",
       "      <td>w</td>\n",
       "      <td>4384</td>\n",
       "    </tr>\n",
       "    <tr>\n",
       "      <th>veil-type</th>\n",
       "      <td>8124</td>\n",
       "      <td>1</td>\n",
       "      <td>p</td>\n",
       "      <td>8124</td>\n",
       "    </tr>\n",
       "    <tr>\n",
       "      <th>veil-color</th>\n",
       "      <td>8124</td>\n",
       "      <td>4</td>\n",
       "      <td>w</td>\n",
       "      <td>7924</td>\n",
       "    </tr>\n",
       "    <tr>\n",
       "      <th>ring-number</th>\n",
       "      <td>8124</td>\n",
       "      <td>3</td>\n",
       "      <td>o</td>\n",
       "      <td>7488</td>\n",
       "    </tr>\n",
       "    <tr>\n",
       "      <th>ring-type</th>\n",
       "      <td>8124</td>\n",
       "      <td>5</td>\n",
       "      <td>p</td>\n",
       "      <td>3968</td>\n",
       "    </tr>\n",
       "    <tr>\n",
       "      <th>spore-print-color</th>\n",
       "      <td>8124</td>\n",
       "      <td>9</td>\n",
       "      <td>w</td>\n",
       "      <td>2388</td>\n",
       "    </tr>\n",
       "    <tr>\n",
       "      <th>population</th>\n",
       "      <td>8124</td>\n",
       "      <td>6</td>\n",
       "      <td>v</td>\n",
       "      <td>4040</td>\n",
       "    </tr>\n",
       "    <tr>\n",
       "      <th>habitat</th>\n",
       "      <td>8124</td>\n",
       "      <td>7</td>\n",
       "      <td>d</td>\n",
       "      <td>3148</td>\n",
       "    </tr>\n",
       "  </tbody>\n",
       "</table>\n",
       "</div>"
      ],
      "text/plain": [
       "                         count unique top  freq\n",
       "class                     8124      2   e  4208\n",
       "cap-shape                 8124      6   x  3656\n",
       "cap-surface               8124      4   y  3244\n",
       "cap-color                 8124     10   n  2284\n",
       "bruises                   8124      2   f  4748\n",
       "odor                      8124      9   n  3528\n",
       "gill-attachment           8124      2   f  7914\n",
       "gill-spacing              8124      2   c  6812\n",
       "gill-size                 8124      2   b  5612\n",
       "gill-color                8124     12   b  1728\n",
       "stalk-shape               8124      2   t  4608\n",
       "stalk-root                8124      5   b  3776\n",
       "stalk-surface-above-ring  8124      4   s  5176\n",
       "stalk-surface-below-ring  8124      4   s  4936\n",
       "stalk-color-above-ring    8124      9   w  4464\n",
       "stalk-color-below-ring    8124      9   w  4384\n",
       "veil-type                 8124      1   p  8124\n",
       "veil-color                8124      4   w  7924\n",
       "ring-number               8124      3   o  7488\n",
       "ring-type                 8124      5   p  3968\n",
       "spore-print-color         8124      9   w  2388\n",
       "population                8124      6   v  4040\n",
       "habitat                   8124      7   d  3148"
      ]
     },
     "execution_count": 6,
     "metadata": {},
     "output_type": "execute_result"
    }
   ],
   "source": [
    "df.describe().T"
   ]
  },
  {
   "cell_type": "code",
   "execution_count": 7,
   "id": "32bc9bd6",
   "metadata": {
    "execution": {
     "iopub.execute_input": "2025-08-13T22:50:56.875200Z",
     "iopub.status.busy": "2025-08-13T22:50:56.874891Z",
     "iopub.status.idle": "2025-08-13T22:50:56.891483Z",
     "shell.execute_reply": "2025-08-13T22:50:56.890546Z"
    },
    "papermill": {
     "duration": 0.028539,
     "end_time": "2025-08-13T22:50:56.892982",
     "exception": false,
     "start_time": "2025-08-13T22:50:56.864443",
     "status": "completed"
    },
    "tags": []
   },
   "outputs": [
    {
     "data": {
      "text/plain": [
       "0"
      ]
     },
     "execution_count": 7,
     "metadata": {},
     "output_type": "execute_result"
    }
   ],
   "source": [
    "df.isnull().sum().sum()"
   ]
  },
  {
   "cell_type": "markdown",
   "id": "aa7e8fb5",
   "metadata": {
    "papermill": {
     "duration": 0.008556,
     "end_time": "2025-08-13T22:50:56.911353",
     "exception": false,
     "start_time": "2025-08-13T22:50:56.902797",
     "status": "completed"
    },
    "tags": []
   },
   "source": [
    "### We also inspect unique values in each column to understand categorical features."
   ]
  },
  {
   "cell_type": "code",
   "execution_count": 8,
   "id": "d6965a32",
   "metadata": {
    "execution": {
     "iopub.execute_input": "2025-08-13T22:50:57.000851Z",
     "iopub.status.busy": "2025-08-13T22:50:57.000557Z",
     "iopub.status.idle": "2025-08-13T22:50:57.017352Z",
     "shell.execute_reply": "2025-08-13T22:50:57.016075Z"
    },
    "papermill": {
     "duration": 0.029791,
     "end_time": "2025-08-13T22:50:57.019165",
     "exception": false,
     "start_time": "2025-08-13T22:50:56.989374",
     "status": "completed"
    },
    "tags": []
   },
   "outputs": [
    {
     "name": "stdout",
     "output_type": "stream",
     "text": [
      "Column \"class\" contains: ['p' 'e']\n",
      "Column \"cap-shape\" contains: ['x' 'b' 's' 'f' 'k' 'c']\n",
      "Column \"cap-surface\" contains: ['s' 'y' 'f' 'g']\n",
      "Column \"cap-color\" contains: ['n' 'y' 'w' 'g' 'e' 'p' 'b' 'u' 'c' 'r']\n",
      "Column \"bruises\" contains: ['t' 'f']\n",
      "Column \"odor\" contains: ['p' 'a' 'l' 'n' 'f' 'c' 'y' 's' 'm']\n",
      "Column \"gill-attachment\" contains: ['f' 'a']\n",
      "Column \"gill-spacing\" contains: ['c' 'w']\n",
      "Column \"gill-size\" contains: ['n' 'b']\n",
      "Column \"gill-color\" contains: ['k' 'n' 'g' 'p' 'w' 'h' 'u' 'e' 'b' 'r' 'y' 'o']\n",
      "Column \"stalk-shape\" contains: ['e' 't']\n",
      "Column \"stalk-root\" contains: ['e' 'c' 'b' 'r' '?']\n",
      "Column \"stalk-surface-above-ring\" contains: ['s' 'f' 'k' 'y']\n",
      "Column \"stalk-surface-below-ring\" contains: ['s' 'f' 'y' 'k']\n",
      "Column \"stalk-color-above-ring\" contains: ['w' 'g' 'p' 'n' 'b' 'e' 'o' 'c' 'y']\n",
      "Column \"stalk-color-below-ring\" contains: ['w' 'p' 'g' 'b' 'n' 'e' 'y' 'o' 'c']\n",
      "Column \"veil-type\" contains: ['p']\n",
      "Column \"veil-color\" contains: ['w' 'n' 'o' 'y']\n",
      "Column \"ring-number\" contains: ['o' 't' 'n']\n",
      "Column \"ring-type\" contains: ['p' 'e' 'l' 'f' 'n']\n",
      "Column \"spore-print-color\" contains: ['k' 'n' 'u' 'h' 'w' 'r' 'o' 'y' 'b']\n",
      "Column \"population\" contains: ['s' 'n' 'a' 'v' 'y' 'c']\n",
      "Column \"habitat\" contains: ['u' 'g' 'm' 'd' 'p' 'w' 'l']\n"
     ]
    }
   ],
   "source": [
    "for c in df.columns:\n",
    "    print(f'Column \"{c}\" contains: {df[c].unique()}')"
   ]
  },
  {
   "cell_type": "markdown",
   "id": "7175742d",
   "metadata": {
    "papermill": {
     "duration": 0.009052,
     "end_time": "2025-08-13T22:50:57.037959",
     "exception": false,
     "start_time": "2025-08-13T22:50:57.028907",
     "status": "completed"
    },
    "tags": []
   },
   "source": [
    "### Feature \"stalk-root\" contains \"?\", so I replaced it with \"unknown\" which is more representative. Then we visualize the distribution of the target variable."
   ]
  },
  {
   "cell_type": "code",
   "execution_count": 9,
   "id": "d0469be3",
   "metadata": {
    "execution": {
     "iopub.execute_input": "2025-08-13T22:50:57.058388Z",
     "iopub.status.busy": "2025-08-13T22:50:57.057965Z",
     "iopub.status.idle": "2025-08-13T22:50:57.067422Z",
     "shell.execute_reply": "2025-08-13T22:50:57.066303Z"
    },
    "papermill": {
     "duration": 0.021245,
     "end_time": "2025-08-13T22:50:57.069157",
     "exception": false,
     "start_time": "2025-08-13T22:50:57.047912",
     "status": "completed"
    },
    "tags": []
   },
   "outputs": [
    {
     "data": {
      "text/plain": [
       "array(['e', 'c', 'b', 'r', 'unknown'], dtype=object)"
      ]
     },
     "execution_count": 9,
     "metadata": {},
     "output_type": "execute_result"
    }
   ],
   "source": [
    "df['stalk-root'] = df['stalk-root'].replace('?', 'unknown')\n",
    "df['stalk-root'].unique()"
   ]
  },
  {
   "cell_type": "code",
   "execution_count": 10,
   "id": "d68942ee",
   "metadata": {
    "execution": {
     "iopub.execute_input": "2025-08-13T22:50:57.089315Z",
     "iopub.status.busy": "2025-08-13T22:50:57.088950Z",
     "iopub.status.idle": "2025-08-13T22:50:57.409105Z",
     "shell.execute_reply": "2025-08-13T22:50:57.408299Z"
    },
    "papermill": {
     "duration": 0.332461,
     "end_time": "2025-08-13T22:50:57.410767",
     "exception": false,
     "start_time": "2025-08-13T22:50:57.078306",
     "status": "completed"
    },
    "tags": []
   },
   "outputs": [
    {
     "data": {
      "text/plain": [
       "Text(0.5, 1.0, 'Target variable distribution (edible vs poisonous)')"
      ]
     },
     "execution_count": 10,
     "metadata": {},
     "output_type": "execute_result"
    },
    {
     "data": {
      "image/png": "[encoded data removed]",
      "text/plain": [
       "<Figure size 640x480 with 1 Axes>"
      ]
     },
     "metadata": {},
     "output_type": "display_data"
    }
   ],
   "source": [
    "sns.countplot(data=df, x='class')\n",
    "plt.title('Target variable distribution (edible vs poisonous)')"
   ]
  },
  {
   "cell_type": "markdown",
   "id": "666e4677",
   "metadata": {
    "papermill": {
     "duration": 0.0102,
     "end_time": "2025-08-13T22:50:57.431013",
     "exception": false,
     "start_time": "2025-08-13T22:50:57.420813",
     "status": "completed"
    },
    "tags": []
   },
   "source": [
    "## Data Preprocessing\n",
    "Since all features are categorical, we apply one-hot encoding to convert them into numerical format suitable for scikit-learn.\n",
    "\n",
    "Why drop one column (drop_first=True)?\n",
    "When you have n categories, creating n binary columns can lead to redundancy, because the last column can always be inferred from the others.\n",
    "- This redundancy is called multicollinearity, which can confuse some models (especially linear models).\n",
    "- By dropping the first column (drop_first=True), we reduce the number of columns to n-1, keeping all the information but removing redundancy.\n",
    "\n",
    "Example:"
   ]
  },
  {
   "cell_type": "code",
   "execution_count": 11,
   "id": "20ed3f48",
   "metadata": {
    "execution": {
     "iopub.execute_input": "2025-08-13T22:50:57.451612Z",
     "iopub.status.busy": "2025-08-13T22:50:57.451311Z",
     "iopub.status.idle": "2025-08-13T22:50:57.520176Z",
     "shell.execute_reply": "2025-08-13T22:50:57.519240Z"
    },
    "papermill": {
     "duration": 0.081339,
     "end_time": "2025-08-13T22:50:57.522152",
     "exception": false,
     "start_time": "2025-08-13T22:50:57.440813",
     "status": "completed"
    },
    "tags": []
   },
   "outputs": [
    {
     "data": {
      "text/html": [
       "<div>\n",
       "<style scoped>\n",
       "    .dataframe tbody tr th:only-of-type {\n",
       "        vertical-align: middle;\n",
       "    }\n",
       "\n",
       "    .dataframe tbody tr th {\n",
       "        vertical-align: top;\n",
       "    }\n",
       "\n",
       "    .dataframe thead th {\n",
       "        text-align: right;\n",
       "    }\n",
       "</style>\n",
       "<table border=\"1\" class=\"dataframe\">\n",
       "  <thead>\n",
       "    <tr style=\"text-align: right;\">\n",
       "      <th></th>\n",
       "      <th>class_p</th>\n",
       "      <th>cap-shape_c</th>\n",
       "      <th>cap-shape_f</th>\n",
       "      <th>cap-shape_k</th>\n",
       "      <th>cap-shape_s</th>\n",
       "      <th>cap-shape_x</th>\n",
       "      <th>cap-surface_g</th>\n",
       "      <th>cap-surface_s</th>\n",
       "      <th>cap-surface_y</th>\n",
       "      <th>cap-color_c</th>\n",
       "      <th>...</th>\n",
       "      <th>population_n</th>\n",
       "      <th>population_s</th>\n",
       "      <th>population_v</th>\n",
       "      <th>population_y</th>\n",
       "      <th>habitat_g</th>\n",
       "      <th>habitat_l</th>\n",
       "      <th>habitat_m</th>\n",
       "      <th>habitat_p</th>\n",
       "      <th>habitat_u</th>\n",
       "      <th>habitat_w</th>\n",
       "    </tr>\n",
       "  </thead>\n",
       "  <tbody>\n",
       "    <tr>\n",
       "      <th>0</th>\n",
       "      <td>1</td>\n",
       "      <td>0</td>\n",
       "      <td>0</td>\n",
       "      <td>0</td>\n",
       "      <td>0</td>\n",
       "      <td>1</td>\n",
       "      <td>0</td>\n",
       "      <td>1</td>\n",
       "      <td>0</td>\n",
       "      <td>0</td>\n",
       "      <td>...</td>\n",
       "      <td>0</td>\n",
       "      <td>1</td>\n",
       "      <td>0</td>\n",
       "      <td>0</td>\n",
       "      <td>0</td>\n",
       "      <td>0</td>\n",
       "      <td>0</td>\n",
       "      <td>0</td>\n",
       "      <td>1</td>\n",
       "      <td>0</td>\n",
       "    </tr>\n",
       "    <tr>\n",
       "      <th>1</th>\n",
       "      <td>0</td>\n",
       "      <td>0</td>\n",
       "      <td>0</td>\n",
       "      <td>0</td>\n",
       "      <td>0</td>\n",
       "      <td>1</td>\n",
       "      <td>0</td>\n",
       "      <td>1</td>\n",
       "      <td>0</td>\n",
       "      <td>0</td>\n",
       "      <td>...</td>\n",
       "      <td>1</td>\n",
       "      <td>0</td>\n",
       "      <td>0</td>\n",
       "      <td>0</td>\n",
       "      <td>1</td>\n",
       "      <td>0</td>\n",
       "      <td>0</td>\n",
       "      <td>0</td>\n",
       "      <td>0</td>\n",
       "      <td>0</td>\n",
       "    </tr>\n",
       "    <tr>\n",
       "      <th>2</th>\n",
       "      <td>0</td>\n",
       "      <td>0</td>\n",
       "      <td>0</td>\n",
       "      <td>0</td>\n",
       "      <td>0</td>\n",
       "      <td>0</td>\n",
       "      <td>0</td>\n",
       "      <td>1</td>\n",
       "      <td>0</td>\n",
       "      <td>0</td>\n",
       "      <td>...</td>\n",
       "      <td>1</td>\n",
       "      <td>0</td>\n",
       "      <td>0</td>\n",
       "      <td>0</td>\n",
       "      <td>0</td>\n",
       "      <td>0</td>\n",
       "      <td>1</td>\n",
       "      <td>0</td>\n",
       "      <td>0</td>\n",
       "      <td>0</td>\n",
       "    </tr>\n",
       "    <tr>\n",
       "      <th>3</th>\n",
       "      <td>1</td>\n",
       "      <td>0</td>\n",
       "      <td>0</td>\n",
       "      <td>0</td>\n",
       "      <td>0</td>\n",
       "      <td>1</td>\n",
       "      <td>0</td>\n",
       "      <td>0</td>\n",
       "      <td>1</td>\n",
       "      <td>0</td>\n",
       "      <td>...</td>\n",
       "      <td>0</td>\n",
       "      <td>1</td>\n",
       "      <td>0</td>\n",
       "      <td>0</td>\n",
       "      <td>0</td>\n",
       "      <td>0</td>\n",
       "      <td>0</td>\n",
       "      <td>0</td>\n",
       "      <td>1</td>\n",
       "      <td>0</td>\n",
       "    </tr>\n",
       "    <tr>\n",
       "      <th>4</th>\n",
       "      <td>0</td>\n",
       "      <td>0</td>\n",
       "      <td>0</td>\n",
       "      <td>0</td>\n",
       "      <td>0</td>\n",
       "      <td>1</td>\n",
       "      <td>0</td>\n",
       "      <td>1</td>\n",
       "      <td>0</td>\n",
       "      <td>0</td>\n",
       "      <td>...</td>\n",
       "      <td>0</td>\n",
       "      <td>0</td>\n",
       "      <td>0</td>\n",
       "      <td>0</td>\n",
       "      <td>1</td>\n",
       "      <td>0</td>\n",
       "      <td>0</td>\n",
       "      <td>0</td>\n",
       "      <td>0</td>\n",
       "      <td>0</td>\n",
       "    </tr>\n",
       "    <tr>\n",
       "      <th>...</th>\n",
       "      <td>...</td>\n",
       "      <td>...</td>\n",
       "      <td>...</td>\n",
       "      <td>...</td>\n",
       "      <td>...</td>\n",
       "      <td>...</td>\n",
       "      <td>...</td>\n",
       "      <td>...</td>\n",
       "      <td>...</td>\n",
       "      <td>...</td>\n",
       "      <td>...</td>\n",
       "      <td>...</td>\n",
       "      <td>...</td>\n",
       "      <td>...</td>\n",
       "      <td>...</td>\n",
       "      <td>...</td>\n",
       "      <td>...</td>\n",
       "      <td>...</td>\n",
       "      <td>...</td>\n",
       "      <td>...</td>\n",
       "      <td>...</td>\n",
       "    </tr>\n",
       "    <tr>\n",
       "      <th>8119</th>\n",
       "      <td>0</td>\n",
       "      <td>0</td>\n",
       "      <td>0</td>\n",
       "      <td>1</td>\n",
       "      <td>0</td>\n",
       "      <td>0</td>\n",
       "      <td>0</td>\n",
       "      <td>1</td>\n",
       "      <td>0</td>\n",
       "      <td>0</td>\n",
       "      <td>...</td>\n",
       "      <td>0</td>\n",
       "      <td>0</td>\n",
       "      <td>0</td>\n",
       "      <td>0</td>\n",
       "      <td>0</td>\n",
       "      <td>1</td>\n",
       "      <td>0</td>\n",
       "      <td>0</td>\n",
       "      <td>0</td>\n",
       "      <td>0</td>\n",
       "    </tr>\n",
       "    <tr>\n",
       "      <th>8120</th>\n",
       "      <td>0</td>\n",
       "      <td>0</td>\n",
       "      <td>0</td>\n",
       "      <td>0</td>\n",
       "      <td>0</td>\n",
       "      <td>1</td>\n",
       "      <td>0</td>\n",
       "      <td>1</td>\n",
       "      <td>0</td>\n",
       "      <td>0</td>\n",
       "      <td>...</td>\n",
       "      <td>0</td>\n",
       "      <td>0</td>\n",
       "      <td>1</td>\n",
       "      <td>0</td>\n",
       "      <td>0</td>\n",
       "      <td>1</td>\n",
       "      <td>0</td>\n",
       "      <td>0</td>\n",
       "      <td>0</td>\n",
       "      <td>0</td>\n",
       "    </tr>\n",
       "    <tr>\n",
       "      <th>8121</th>\n",
       "      <td>0</td>\n",
       "      <td>0</td>\n",
       "      <td>1</td>\n",
       "      <td>0</td>\n",
       "      <td>0</td>\n",
       "      <td>0</td>\n",
       "      <td>0</td>\n",
       "      <td>1</td>\n",
       "      <td>0</td>\n",
       "      <td>0</td>\n",
       "      <td>...</td>\n",
       "      <td>0</td>\n",
       "      <td>0</td>\n",
       "      <td>0</td>\n",
       "      <td>0</td>\n",
       "      <td>0</td>\n",
       "      <td>1</td>\n",
       "      <td>0</td>\n",
       "      <td>0</td>\n",
       "      <td>0</td>\n",
       "      <td>0</td>\n",
       "    </tr>\n",
       "    <tr>\n",
       "      <th>8122</th>\n",
       "      <td>1</td>\n",
       "      <td>0</td>\n",
       "      <td>0</td>\n",
       "      <td>1</td>\n",
       "      <td>0</td>\n",
       "      <td>0</td>\n",
       "      <td>0</td>\n",
       "      <td>0</td>\n",
       "      <td>1</td>\n",
       "      <td>0</td>\n",
       "      <td>...</td>\n",
       "      <td>0</td>\n",
       "      <td>0</td>\n",
       "      <td>1</td>\n",
       "      <td>0</td>\n",
       "      <td>0</td>\n",
       "      <td>1</td>\n",
       "      <td>0</td>\n",
       "      <td>0</td>\n",
       "      <td>0</td>\n",
       "      <td>0</td>\n",
       "    </tr>\n",
       "    <tr>\n",
       "      <th>8123</th>\n",
       "      <td>0</td>\n",
       "      <td>0</td>\n",
       "      <td>0</td>\n",
       "      <td>0</td>\n",
       "      <td>0</td>\n",
       "      <td>1</td>\n",
       "      <td>0</td>\n",
       "      <td>1</td>\n",
       "      <td>0</td>\n",
       "      <td>0</td>\n",
       "      <td>...</td>\n",
       "      <td>0</td>\n",
       "      <td>0</td>\n",
       "      <td>0</td>\n",
       "      <td>0</td>\n",
       "      <td>0</td>\n",
       "      <td>1</td>\n",
       "      <td>0</td>\n",
       "      <td>0</td>\n",
       "      <td>0</td>\n",
       "      <td>0</td>\n",
       "    </tr>\n",
       "  </tbody>\n",
       "</table>\n",
       "<p>8124 rows × 96 columns</p>\n",
       "</div>"
      ],
      "text/plain": [
       "      class_p  cap-shape_c  cap-shape_f  cap-shape_k  cap-shape_s  \\\n",
       "0           1            0            0            0            0   \n",
       "1           0            0            0            0            0   \n",
       "2           0            0            0            0            0   \n",
       "3           1            0            0            0            0   \n",
       "4           0            0            0            0            0   \n",
       "...       ...          ...          ...          ...          ...   \n",
       "8119        0            0            0            1            0   \n",
       "8120        0            0            0            0            0   \n",
       "8121        0            0            1            0            0   \n",
       "8122        1            0            0            1            0   \n",
       "8123        0            0            0            0            0   \n",
       "\n",
       "      cap-shape_x  cap-surface_g  cap-surface_s  cap-surface_y  cap-color_c  \\\n",
       "0               1              0              1              0            0   \n",
       "1               1              0              1              0            0   \n",
       "2               0              0              1              0            0   \n",
       "3               1              0              0              1            0   \n",
       "4               1              0              1              0            0   \n",
       "...           ...            ...            ...            ...          ...   \n",
       "8119            0              0              1              0            0   \n",
       "8120            1              0              1              0            0   \n",
       "8121            0              0              1              0            0   \n",
       "8122            0              0              0              1            0   \n",
       "8123            1              0              1              0            0   \n",
       "\n",
       "      ...  population_n  population_s  population_v  population_y  habitat_g  \\\n",
       "0     ...             0             1             0             0          0   \n",
       "1     ...             1             0             0             0          1   \n",
       "2     ...             1             0             0             0          0   \n",
       "3     ...             0             1             0             0          0   \n",
       "4     ...             0             0             0             0          1   \n",
       "...   ...           ...           ...           ...           ...        ...   \n",
       "8119  ...             0             0             0             0          0   \n",
       "8120  ...             0             0             1             0          0   \n",
       "8121  ...             0             0             0             0          0   \n",
       "8122  ...             0             0             1             0          0   \n",
       "8123  ...             0             0             0             0          0   \n",
       "\n",
       "      habitat_l  habitat_m  habitat_p  habitat_u  habitat_w  \n",
       "0             0          0          0          1          0  \n",
       "1             0          0          0          0          0  \n",
       "2             0          1          0          0          0  \n",
       "3             0          0          0          1          0  \n",
       "4             0          0          0          0          0  \n",
       "...         ...        ...        ...        ...        ...  \n",
       "8119          1          0          0          0          0  \n",
       "8120          1          0          0          0          0  \n",
       "8121          1          0          0          0          0  \n",
       "8122          1          0          0          0          0  \n",
       "8123          1          0          0          0          0  \n",
       "\n",
       "[8124 rows x 96 columns]"
      ]
     },
     "execution_count": 11,
     "metadata": {},
     "output_type": "execute_result"
    }
   ],
   "source": [
    "df_dummies = pd.get_dummies(data=df, drop_first=True, dtype=int)\n",
    "df_dummies"
   ]
  },
  {
   "cell_type": "markdown",
   "id": "72e4e30c",
   "metadata": {
    "papermill": {
     "duration": 0.01017,
     "end_time": "2025-08-13T22:50:57.542901",
     "exception": false,
     "start_time": "2025-08-13T22:50:57.532731",
     "status": "completed"
    },
    "tags": []
   },
   "source": [
    "## Split Data\n",
    "### We separate features (X) and target (y). Then split the dataset into training and testing sets. We also check chapes and proportions to ensure the split is balanced:"
   ]
  },
  {
   "cell_type": "code",
   "execution_count": 12,
   "id": "9cf44ae8",
   "metadata": {
    "execution": {
     "iopub.execute_input": "2025-08-13T22:50:57.564712Z",
     "iopub.status.busy": "2025-08-13T22:50:57.564025Z",
     "iopub.status.idle": "2025-08-13T22:50:57.599702Z",
     "shell.execute_reply": "2025-08-13T22:50:57.598736Z"
    },
    "papermill": {
     "duration": 0.047951,
     "end_time": "2025-08-13T22:50:57.601240",
     "exception": false,
     "start_time": "2025-08-13T22:50:57.553289",
     "status": "completed"
    },
    "tags": []
   },
   "outputs": [
    {
     "name": "stdout",
     "output_type": "stream",
     "text": [
      "Shape of X_train: (6499, 95)\n",
      "Shape of X_test: (1625, 95)\n",
      "Shape of y_train: (6499,)\n",
      "Shape of y_test: (1625,) \n",
      "\n",
      "Percentage of data in X_train: 0.7999753815854259\n",
      "Percentage of data in X_test: 0.2000246184145741\n",
      "Percentage of data in y_train: 0.7999753815854259\n",
      "Percentage of data in y_test: 0.2000246184145741\n",
      "\n",
      "Number of elements in y_train: class_p\n",
      "0    3365\n",
      "1    3134\n",
      "Name: count, dtype: int64\n",
      "\n",
      "Percentage of elements in y_train: class_p\n",
      "0    0.517772\n",
      "1    0.482228\n",
      "Name: count, dtype: float64\n",
      "\n",
      "Number of elements in y_test: class_p\n",
      "0    843\n",
      "1    782\n",
      "Name: count, dtype: int64\n",
      "\n",
      "Percentage of elements in y_test: class_p\n",
      "0    0.518769\n",
      "1    0.481231\n",
      "Name: count, dtype: float64\n",
      "\n"
     ]
    }
   ],
   "source": [
    "X = df_dummies.copy()\n",
    "y = X.pop('class_p')\n",
    "X_train, X_test, y_train, y_test = train_test_split(X, y, test_size=0.2, random_state=42)\n",
    "print(f'Shape of X_train: {X_train.shape}')\n",
    "print(f'Shape of X_test: {X_test.shape}')\n",
    "print(f'Shape of y_train: {y_train.shape}')\n",
    "print(f'Shape of y_test: {y_test.shape} \\n')\n",
    "\n",
    "print(f'Percentage of data in X_train: {len(X_train)/len(df_dummies)}')\n",
    "print(f'Percentage of data in X_test: {len(X_test)/len(df_dummies)}')\n",
    "print(f'Percentage of data in y_train: {len(y_train)/len(df_dummies)}')\n",
    "print(f'Percentage of data in y_test: {len(y_test)/len(df_dummies)}\\n')\n",
    "\n",
    "print(f'Number of elements in y_train: {y_train.value_counts()}\\n')\n",
    "print(f'Percentage of elements in y_train: {y_train.value_counts()/len(y_train)}\\n')\n",
    "print(f'Number of elements in y_test: {y_test.value_counts()}\\n')\n",
    "print(f'Percentage of elements in y_test: {y_test.value_counts()/len(y_test)}\\n')\n"
   ]
  },
  {
   "cell_type": "markdown",
   "id": "47001c34",
   "metadata": {
    "papermill": {
     "duration": 0.010133,
     "end_time": "2025-08-13T22:50:57.621509",
     "exception": false,
     "start_time": "2025-08-13T22:50:57.611376",
     "status": "completed"
    },
    "tags": []
   },
   "source": [
    "# Decision Tree Model Training for Classification Purposes\n",
    "### We initialize DecissionTreeClassifier and tune max_depth and min_samples_leaf using GridSearchCV for better performance:"
   ]
  },
  {
   "cell_type": "code",
   "execution_count": 13,
   "id": "12666ece",
   "metadata": {
    "execution": {
     "iopub.execute_input": "2025-08-13T22:50:57.643172Z",
     "iopub.status.busy": "2025-08-13T22:50:57.642859Z",
     "iopub.status.idle": "2025-08-13T22:51:00.225022Z",
     "shell.execute_reply": "2025-08-13T22:51:00.224226Z"
    },
    "papermill": {
     "duration": 2.594755,
     "end_time": "2025-08-13T22:51:00.226510",
     "exception": false,
     "start_time": "2025-08-13T22:50:57.631755",
     "status": "completed"
    },
    "tags": []
   },
   "outputs": [
    {
     "name": "stdout",
     "output_type": "stream",
     "text": [
      "Best score: 0.9863054420560194\n",
      "Best Parameters: {'max_depth': 3, 'min_samples_leaf': 20}\n"
     ]
    }
   ],
   "source": [
    "clf = DecisionTreeClassifier(random_state=1)\n",
    "from sklearn.model_selection import GridSearchCV\n",
    "param_grid = {'max_depth': np.arange(1, 4), 'min_samples_leaf': [3, 5, 10, 20, 30, 40, 50]}\n",
    "gs = GridSearchCV(clf, param_grid=param_grid, scoring='accuracy', cv=5)\n",
    "gs.fit(X_train, y_train)\n",
    "print(f'Best score: {gs.best_score_}\\nBest Parameters: {gs.best_params_}')"
   ]
  },
  {
   "cell_type": "markdown",
   "id": "e2fada55",
   "metadata": {
    "papermill": {
     "duration": 0.010073,
     "end_time": "2025-08-13T22:51:00.247011",
     "exception": false,
     "start_time": "2025-08-13T22:51:00.236938",
     "status": "completed"
    },
    "tags": []
   },
   "source": [
    "## Model Evaluation\n",
    "### We predict on the test set and evaluate accuracy:"
   ]
  },
  {
   "cell_type": "code",
   "execution_count": 14,
   "id": "53b6dd96",
   "metadata": {
    "execution": {
     "iopub.execute_input": "2025-08-13T22:51:00.268354Z",
     "iopub.status.busy": "2025-08-13T22:51:00.268019Z",
     "iopub.status.idle": "2025-08-13T22:51:00.515350Z",
     "shell.execute_reply": "2025-08-13T22:51:00.514368Z"
    },
    "papermill": {
     "duration": 0.259873,
     "end_time": "2025-08-13T22:51:00.516907",
     "exception": false,
     "start_time": "2025-08-13T22:51:00.257034",
     "status": "completed"
    },
    "tags": []
   },
   "outputs": [
    {
     "name": "stdout",
     "output_type": "stream",
     "text": [
      "Accuracy: 0.9809230769230769\n",
      "Classification Report:\n",
      "              precision    recall  f1-score   support\n",
      "\n",
      "           0       1.00      0.96      0.98       843\n",
      "           1       0.96      1.00      0.98       782\n",
      "\n",
      "    accuracy                           0.98      1625\n",
      "   macro avg       0.98      0.98      0.98      1625\n",
      "weighted avg       0.98      0.98      0.98      1625\n",
      "\n"
     ]
    },
    {
     "data": {
      "text/plain": [
       "Text(0.5, 1.0, 'Confusion Matrix')"
      ]
     },
     "execution_count": 14,
     "metadata": {},
     "output_type": "execute_result"
    },
    {
     "data": {
      "image/png": "[encoded data removed]",
      "text/plain": [
       "<Figure size 640x480 with 2 Axes>"
      ]
     },
     "metadata": {},
     "output_type": "display_data"
    }
   ],
   "source": [
    "best_model = gs.best_estimator_\n",
    "y_pred = best_model.predict(X_test)\n",
    "\n",
    "print(f'Accuracy: {accuracy_score(y_test, y_pred)}')\n",
    "print(f'Classification Report:\\n{classification_report(y_test, y_pred)}')\n",
    "\n",
    "cm = confusion_matrix(y_test, y_pred)\n",
    "sns.heatmap(cm, annot=True, fmt='d', cmap='Blues',\n",
    "            xticklabels=['edible','poisonous'],\n",
    "            yticklabels=['edible','poisonous'])\n",
    "plt.title(\"Confusion Matrix\")"
   ]
  },
  {
   "cell_type": "markdown",
   "id": "caaf837f",
   "metadata": {
    "papermill": {
     "duration": 0.011815,
     "end_time": "2025-08-13T22:51:00.540805",
     "exception": false,
     "start_time": "2025-08-13T22:51:00.528990",
     "status": "completed"
    },
    "tags": []
   },
   "source": [
    "## Visualizing the Decision Tree\n",
    "### For better interpretability, we export the tree structure:"
   ]
  },
  {
   "cell_type": "code",
   "execution_count": 15,
   "id": "1ef4f73b",
   "metadata": {
    "execution": {
     "iopub.execute_input": "2025-08-13T22:51:00.565478Z",
     "iopub.status.busy": "2025-08-13T22:51:00.565148Z",
     "iopub.status.idle": "2025-08-13T22:51:00.884513Z",
     "shell.execute_reply": "2025-08-13T22:51:00.883487Z"
    },
    "papermill": {
     "duration": 0.336048,
     "end_time": "2025-08-13T22:51:00.888087",
     "exception": false,
     "start_time": "2025-08-13T22:51:00.552039",
     "status": "completed"
    },
    "tags": []
   },
   "outputs": [
    {
     "data": {
      "image/png": "[encoded data removed]",
      "text/plain": [
       "<IPython.core.display.Image object>"
      ]
     },
     "execution_count": 15,
     "metadata": {},
     "output_type": "execute_result"
    }
   ],
   "source": [
    "from sklearn.tree import export_graphviz\n",
    "from io import StringIO\n",
    "from IPython.display import Image\n",
    "import pydotplus\n",
    "dot_data = StringIO()\n",
    "export_graphviz(best_model, out_file=dot_data, feature_names=X.columns, class_names=['0', '1'], rounded=True, filled=True)\n",
    "graph = pydotplus.graph_from_dot_data(dot_data.getvalue())\n",
    "Image(graph.create_png())"
   ]
  },
  {
   "cell_type": "markdown",
   "id": "c853dbbb",
   "metadata": {
    "papermill": {
     "duration": 0.013868,
     "end_time": "2025-08-13T22:51:00.916576",
     "exception": false,
     "start_time": "2025-08-13T22:51:00.902708",
     "status": "completed"
    },
    "tags": []
   },
   "source": [
    "## Feature Importance\n",
    "### We inspect the most influential features that the model uses to make decisions:"
   ]
  },
  {
   "cell_type": "code",
   "execution_count": 16,
   "id": "3afa7ecd",
   "metadata": {
    "execution": {
     "iopub.execute_input": "2025-08-13T22:51:00.946386Z",
     "iopub.status.busy": "2025-08-13T22:51:00.946033Z",
     "iopub.status.idle": "2025-08-13T22:51:00.953799Z",
     "shell.execute_reply": "2025-08-13T22:51:00.953023Z"
    },
    "papermill": {
     "duration": 0.024439,
     "end_time": "2025-08-13T22:51:00.955157",
     "exception": false,
     "start_time": "2025-08-13T22:51:00.930718",
     "status": "completed"
    },
    "tags": []
   },
   "outputs": [
    {
     "data": {
      "text/plain": [
       "odor_n                        0.656915\n",
       "stalk-root_c                  0.189715\n",
       "stalk-root_r                  0.085410\n",
       "spore-print-color_r           0.035933\n",
       "stalk-surface-above-ring_k    0.018737\n",
       "stalk-surface-below-ring_y    0.013289\n",
       "cap-shape_c                   0.000000\n",
       "veil-color_w                  0.000000\n",
       "veil-color_o                  0.000000\n",
       "stalk-color-below-ring_y      0.000000\n",
       "dtype: float64"
      ]
     },
     "execution_count": 16,
     "metadata": {},
     "output_type": "execute_result"
    }
   ],
   "source": [
    "importances = pd.Series(best_model.feature_importances_, index=X.columns)\n",
    "importances = importances.sort_values(ascending=False)\n",
    "importances[:10]"
   ]
  },
  {
   "cell_type": "markdown",
   "id": "7e003834",
   "metadata": {
    "papermill": {
     "duration": 0.014562,
     "end_time": "2025-08-13T22:51:00.984385",
     "exception": false,
     "start_time": "2025-08-13T22:51:00.969823",
     "status": "completed"
    },
    "tags": []
   },
   "source": [
    "# Decision Tree Regressor - Medical Cost Personal Dataset\n",
    "The Medical Cost Personal Dataset contains information about individuals and their annual medical insurance charges. The main goal is to predict insurance charges based on personal attributes such as:\n",
    "- Numerical features: age, bmi, children\n",
    "- Categorical features: sex, smoker, region\n",
    "\n",
    "Before modeling, we need to understand the data, check for missing values, and explore relationships between features."
   ]
  },
  {
   "cell_type": "markdown",
   "id": "64248b7a",
   "metadata": {
    "papermill": {
     "duration": 0.013893,
     "end_time": "2025-08-13T22:51:01.013139",
     "exception": false,
     "start_time": "2025-08-13T22:51:00.999246",
     "status": "completed"
    },
    "tags": []
   },
   "source": [
    "## Import Libraries & Load Dataset\n",
    "### We import the necessary libraries for data handling, visualisation and modeling. We also load the dataset and take a fist look."
   ]
  },
  {
   "cell_type": "code",
   "execution_count": 17,
   "id": "76f763cc",
   "metadata": {
    "execution": {
     "iopub.execute_input": "2025-08-13T22:51:01.043494Z",
     "iopub.status.busy": "2025-08-13T22:51:01.043171Z",
     "iopub.status.idle": "2025-08-13T22:51:01.066011Z",
     "shell.execute_reply": "2025-08-13T22:51:01.065261Z"
    },
    "papermill": {
     "duration": 0.040483,
     "end_time": "2025-08-13T22:51:01.067882",
     "exception": false,
     "start_time": "2025-08-13T22:51:01.027399",
     "status": "completed"
    },
    "tags": []
   },
   "outputs": [
    {
     "data": {
      "text/html": [
       "<div>\n",
       "<style scoped>\n",
       "    .dataframe tbody tr th:only-of-type {\n",
       "        vertical-align: middle;\n",
       "    }\n",
       "\n",
       "    .dataframe tbody tr th {\n",
       "        vertical-align: top;\n",
       "    }\n",
       "\n",
       "    .dataframe thead th {\n",
       "        text-align: right;\n",
       "    }\n",
       "</style>\n",
       "<table border=\"1\" class=\"dataframe\">\n",
       "  <thead>\n",
       "    <tr style=\"text-align: right;\">\n",
       "      <th></th>\n",
       "      <th>age</th>\n",
       "      <th>sex</th>\n",
       "      <th>bmi</th>\n",
       "      <th>children</th>\n",
       "      <th>smoker</th>\n",
       "      <th>region</th>\n",
       "      <th>charges</th>\n",
       "    </tr>\n",
       "  </thead>\n",
       "  <tbody>\n",
       "    <tr>\n",
       "      <th>0</th>\n",
       "      <td>19</td>\n",
       "      <td>female</td>\n",
       "      <td>27.900</td>\n",
       "      <td>0</td>\n",
       "      <td>yes</td>\n",
       "      <td>southwest</td>\n",
       "      <td>16884.92400</td>\n",
       "    </tr>\n",
       "    <tr>\n",
       "      <th>1</th>\n",
       "      <td>18</td>\n",
       "      <td>male</td>\n",
       "      <td>33.770</td>\n",
       "      <td>1</td>\n",
       "      <td>no</td>\n",
       "      <td>southeast</td>\n",
       "      <td>1725.55230</td>\n",
       "    </tr>\n",
       "    <tr>\n",
       "      <th>2</th>\n",
       "      <td>28</td>\n",
       "      <td>male</td>\n",
       "      <td>33.000</td>\n",
       "      <td>3</td>\n",
       "      <td>no</td>\n",
       "      <td>southeast</td>\n",
       "      <td>4449.46200</td>\n",
       "    </tr>\n",
       "    <tr>\n",
       "      <th>3</th>\n",
       "      <td>33</td>\n",
       "      <td>male</td>\n",
       "      <td>22.705</td>\n",
       "      <td>0</td>\n",
       "      <td>no</td>\n",
       "      <td>northwest</td>\n",
       "      <td>21984.47061</td>\n",
       "    </tr>\n",
       "    <tr>\n",
       "      <th>4</th>\n",
       "      <td>32</td>\n",
       "      <td>male</td>\n",
       "      <td>28.880</td>\n",
       "      <td>0</td>\n",
       "      <td>no</td>\n",
       "      <td>northwest</td>\n",
       "      <td>3866.85520</td>\n",
       "    </tr>\n",
       "  </tbody>\n",
       "</table>\n",
       "</div>"
      ],
      "text/plain": [
       "   age     sex     bmi  children smoker     region      charges\n",
       "0   19  female  27.900         0    yes  southwest  16884.92400\n",
       "1   18    male  33.770         1     no  southeast   1725.55230\n",
       "2   28    male  33.000         3     no  southeast   4449.46200\n",
       "3   33    male  22.705         0     no  northwest  21984.47061\n",
       "4   32    male  28.880         0     no  northwest   3866.85520"
      ]
     },
     "execution_count": 17,
     "metadata": {},
     "output_type": "execute_result"
    }
   ],
   "source": [
    "import pandas as pd\n",
    "import numpy as np\n",
    "import matplotlib.pyplot as plt\n",
    "import seaborn as sns\n",
    "\n",
    "from sklearn.model_selection import train_test_split\n",
    "from sklearn.tree import DecisionTreeRegressor\n",
    "from sklearn.metrics import mean_squared_error, mean_absolute_error, r2_score, max_error\n",
    "\n",
    "medical_cost_personal_dataset_url = '/kaggle/input/insurance/insurance.csv'\n",
    "df = pd.read_csv(medical_cost_personal_dataset_url)\n",
    "df.head()"
   ]
  },
  {
   "cell_type": "markdown",
   "id": "82f735dd",
   "metadata": {
    "papermill": {
     "duration": 0.014297,
     "end_time": "2025-08-13T22:51:01.097327",
     "exception": false,
     "start_time": "2025-08-13T22:51:01.083030",
     "status": "completed"
    },
    "tags": []
   },
   "source": [
    "## Exploratory Data Analysis (EDA)\n",
    "We start by inspecting the dataset with .info() and .describe() Then we:\n",
    "- Check correlations between numeric features using a heatmap to understand linear relationships.\n",
    "- Visualize distributions of categorical variables (sex, smoker, region) to see class balance.\n",
    "\n",
    "This helps identify potential patterns, outliers or skewed distributions."
   ]
  },
  {
   "cell_type": "code",
   "execution_count": 18,
   "id": "e738d05c",
   "metadata": {
    "execution": {
     "iopub.execute_input": "2025-08-13T22:51:01.127544Z",
     "iopub.status.busy": "2025-08-13T22:51:01.127240Z",
     "iopub.status.idle": "2025-08-13T22:51:01.138123Z",
     "shell.execute_reply": "2025-08-13T22:51:01.137003Z"
    },
    "papermill": {
     "duration": 0.028044,
     "end_time": "2025-08-13T22:51:01.139714",
     "exception": false,
     "start_time": "2025-08-13T22:51:01.111670",
     "status": "completed"
    },
    "tags": []
   },
   "outputs": [
    {
     "name": "stdout",
     "output_type": "stream",
     "text": [
      "<class 'pandas.core.frame.DataFrame'>\n",
      "RangeIndex: 1338 entries, 0 to 1337\n",
      "Data columns (total 7 columns):\n",
      " #   Column    Non-Null Count  Dtype  \n",
      "---  ------    --------------  -----  \n",
      " 0   age       1338 non-null   int64  \n",
      " 1   sex       1338 non-null   object \n",
      " 2   bmi       1338 non-null   float64\n",
      " 3   children  1338 non-null   int64  \n",
      " 4   smoker    1338 non-null   object \n",
      " 5   region    1338 non-null   object \n",
      " 6   charges   1338 non-null   float64\n",
      "dtypes: float64(2), int64(2), object(3)\n",
      "memory usage: 73.3+ KB\n"
     ]
    }
   ],
   "source": [
    "df.info()"
   ]
  },
  {
   "cell_type": "code",
   "execution_count": 19,
   "id": "5449db44",
   "metadata": {
    "execution": {
     "iopub.execute_input": "2025-08-13T22:51:01.172004Z",
     "iopub.status.busy": "2025-08-13T22:51:01.170840Z",
     "iopub.status.idle": "2025-08-13T22:51:01.193141Z",
     "shell.execute_reply": "2025-08-13T22:51:01.192281Z"
    },
    "papermill": {
     "duration": 0.039824,
     "end_time": "2025-08-13T22:51:01.194889",
     "exception": false,
     "start_time": "2025-08-13T22:51:01.155065",
     "status": "completed"
    },
    "tags": []
   },
   "outputs": [
    {
     "data": {
      "text/html": [
       "<div>\n",
       "<style scoped>\n",
       "    .dataframe tbody tr th:only-of-type {\n",
       "        vertical-align: middle;\n",
       "    }\n",
       "\n",
       "    .dataframe tbody tr th {\n",
       "        vertical-align: top;\n",
       "    }\n",
       "\n",
       "    .dataframe thead th {\n",
       "        text-align: right;\n",
       "    }\n",
       "</style>\n",
       "<table border=\"1\" class=\"dataframe\">\n",
       "  <thead>\n",
       "    <tr style=\"text-align: right;\">\n",
       "      <th></th>\n",
       "      <th>count</th>\n",
       "      <th>mean</th>\n",
       "      <th>std</th>\n",
       "      <th>min</th>\n",
       "      <th>25%</th>\n",
       "      <th>50%</th>\n",
       "      <th>75%</th>\n",
       "      <th>max</th>\n",
       "    </tr>\n",
       "  </thead>\n",
       "  <tbody>\n",
       "    <tr>\n",
       "      <th>age</th>\n",
       "      <td>1338.0</td>\n",
       "      <td>39.207025</td>\n",
       "      <td>14.049960</td>\n",
       "      <td>18.0000</td>\n",
       "      <td>27.00000</td>\n",
       "      <td>39.000</td>\n",
       "      <td>51.000000</td>\n",
       "      <td>64.00000</td>\n",
       "    </tr>\n",
       "    <tr>\n",
       "      <th>bmi</th>\n",
       "      <td>1338.0</td>\n",
       "      <td>30.663397</td>\n",
       "      <td>6.098187</td>\n",
       "      <td>15.9600</td>\n",
       "      <td>26.29625</td>\n",
       "      <td>30.400</td>\n",
       "      <td>34.693750</td>\n",
       "      <td>53.13000</td>\n",
       "    </tr>\n",
       "    <tr>\n",
       "      <th>children</th>\n",
       "      <td>1338.0</td>\n",
       "      <td>1.094918</td>\n",
       "      <td>1.205493</td>\n",
       "      <td>0.0000</td>\n",
       "      <td>0.00000</td>\n",
       "      <td>1.000</td>\n",
       "      <td>2.000000</td>\n",
       "      <td>5.00000</td>\n",
       "    </tr>\n",
       "    <tr>\n",
       "      <th>charges</th>\n",
       "      <td>1338.0</td>\n",
       "      <td>13270.422265</td>\n",
       "      <td>12110.011237</td>\n",
       "      <td>1121.8739</td>\n",
       "      <td>4740.28715</td>\n",
       "      <td>9382.033</td>\n",
       "      <td>16639.912515</td>\n",
       "      <td>63770.42801</td>\n",
       "    </tr>\n",
       "  </tbody>\n",
       "</table>\n",
       "</div>"
      ],
      "text/plain": [
       "           count          mean           std        min         25%       50%  \\\n",
       "age       1338.0     39.207025     14.049960    18.0000    27.00000    39.000   \n",
       "bmi       1338.0     30.663397      6.098187    15.9600    26.29625    30.400   \n",
       "children  1338.0      1.094918      1.205493     0.0000     0.00000     1.000   \n",
       "charges   1338.0  13270.422265  12110.011237  1121.8739  4740.28715  9382.033   \n",
       "\n",
       "                   75%          max  \n",
       "age          51.000000     64.00000  \n",
       "bmi          34.693750     53.13000  \n",
       "children      2.000000      5.00000  \n",
       "charges   16639.912515  63770.42801  "
      ]
     },
     "execution_count": 19,
     "metadata": {},
     "output_type": "execute_result"
    }
   ],
   "source": [
    "df.describe().T"
   ]
  },
  {
   "cell_type": "code",
   "execution_count": 20,
   "id": "374d866c",
   "metadata": {
    "execution": {
     "iopub.execute_input": "2025-08-13T22:51:01.228304Z",
     "iopub.status.busy": "2025-08-13T22:51:01.227907Z",
     "iopub.status.idle": "2025-08-13T22:51:01.242291Z",
     "shell.execute_reply": "2025-08-13T22:51:01.241379Z"
    },
    "papermill": {
     "duration": 0.0334,
     "end_time": "2025-08-13T22:51:01.243712",
     "exception": false,
     "start_time": "2025-08-13T22:51:01.210312",
     "status": "completed"
    },
    "tags": []
   },
   "outputs": [
    {
     "data": {
      "text/html": [
       "<div>\n",
       "<style scoped>\n",
       "    .dataframe tbody tr th:only-of-type {\n",
       "        vertical-align: middle;\n",
       "    }\n",
       "\n",
       "    .dataframe tbody tr th {\n",
       "        vertical-align: top;\n",
       "    }\n",
       "\n",
       "    .dataframe thead th {\n",
       "        text-align: right;\n",
       "    }\n",
       "</style>\n",
       "<table border=\"1\" class=\"dataframe\">\n",
       "  <thead>\n",
       "    <tr style=\"text-align: right;\">\n",
       "      <th></th>\n",
       "      <th>count</th>\n",
       "      <th>unique</th>\n",
       "      <th>top</th>\n",
       "      <th>freq</th>\n",
       "    </tr>\n",
       "  </thead>\n",
       "  <tbody>\n",
       "    <tr>\n",
       "      <th>sex</th>\n",
       "      <td>1338</td>\n",
       "      <td>2</td>\n",
       "      <td>male</td>\n",
       "      <td>676</td>\n",
       "    </tr>\n",
       "    <tr>\n",
       "      <th>smoker</th>\n",
       "      <td>1338</td>\n",
       "      <td>2</td>\n",
       "      <td>no</td>\n",
       "      <td>1064</td>\n",
       "    </tr>\n",
       "    <tr>\n",
       "      <th>region</th>\n",
       "      <td>1338</td>\n",
       "      <td>4</td>\n",
       "      <td>southeast</td>\n",
       "      <td>364</td>\n",
       "    </tr>\n",
       "  </tbody>\n",
       "</table>\n",
       "</div>"
      ],
      "text/plain": [
       "       count unique        top  freq\n",
       "sex     1338      2       male   676\n",
       "smoker  1338      2         no  1064\n",
       "region  1338      4  southeast   364"
      ]
     },
     "execution_count": 20,
     "metadata": {},
     "output_type": "execute_result"
    }
   ],
   "source": [
    "df.describe(include='object').T"
   ]
  },
  {
   "cell_type": "code",
   "execution_count": 21,
   "id": "27633af0",
   "metadata": {
    "execution": {
     "iopub.execute_input": "2025-08-13T22:51:01.274950Z",
     "iopub.status.busy": "2025-08-13T22:51:01.274663Z",
     "iopub.status.idle": "2025-08-13T22:51:01.280322Z",
     "shell.execute_reply": "2025-08-13T22:51:01.279534Z"
    },
    "papermill": {
     "duration": 0.022626,
     "end_time": "2025-08-13T22:51:01.281568",
     "exception": false,
     "start_time": "2025-08-13T22:51:01.258942",
     "status": "completed"
    },
    "tags": []
   },
   "outputs": [
    {
     "data": {
      "text/plain": [
       "array(['southwest', 'southeast', 'northwest', 'northeast'], dtype=object)"
      ]
     },
     "execution_count": 21,
     "metadata": {},
     "output_type": "execute_result"
    }
   ],
   "source": [
    "df['region'].unique()"
   ]
  },
  {
   "cell_type": "code",
   "execution_count": 22,
   "id": "a865b823",
   "metadata": {
    "execution": {
     "iopub.execute_input": "2025-08-13T22:51:01.312883Z",
     "iopub.status.busy": "2025-08-13T22:51:01.312583Z",
     "iopub.status.idle": "2025-08-13T22:51:01.320368Z",
     "shell.execute_reply": "2025-08-13T22:51:01.319456Z"
    },
    "papermill": {
     "duration": 0.025173,
     "end_time": "2025-08-13T22:51:01.321837",
     "exception": false,
     "start_time": "2025-08-13T22:51:01.296664",
     "status": "completed"
    },
    "tags": []
   },
   "outputs": [
    {
     "data": {
      "text/plain": [
       "age         0\n",
       "sex         0\n",
       "bmi         0\n",
       "children    0\n",
       "smoker      0\n",
       "region      0\n",
       "charges     0\n",
       "dtype: int64"
      ]
     },
     "execution_count": 22,
     "metadata": {},
     "output_type": "execute_result"
    }
   ],
   "source": [
    "df.isnull().sum()"
   ]
  },
  {
   "cell_type": "code",
   "execution_count": 23,
   "id": "c9f0111f",
   "metadata": {
    "execution": {
     "iopub.execute_input": "2025-08-13T22:51:01.353419Z",
     "iopub.status.busy": "2025-08-13T22:51:01.353089Z",
     "iopub.status.idle": "2025-08-13T22:51:01.595987Z",
     "shell.execute_reply": "2025-08-13T22:51:01.595096Z"
    },
    "papermill": {
     "duration": 0.260828,
     "end_time": "2025-08-13T22:51:01.597736",
     "exception": false,
     "start_time": "2025-08-13T22:51:01.336908",
     "status": "completed"
    },
    "tags": []
   },
   "outputs": [
    {
     "data": {
      "text/plain": [
       "Text(0.5, 1.0, 'Correlation between numeric features')"
      ]
     },
     "execution_count": 23,
     "metadata": {},
     "output_type": "execute_result"
    },
    {
     "data": {
      "image/png": "[encoded data removed]",
      "text/plain": [
       "<Figure size 640x480 with 2 Axes>"
      ]
     },
     "metadata": {},
     "output_type": "display_data"
    }
   ],
   "source": [
    "numeric_features = ['age', 'bmi', 'children', 'charges']\n",
    "sns.heatmap(df[numeric_features].corr(), annot=True, cmap='coolwarm')\n",
    "plt.title('Correlation between numeric features')"
   ]
  },
  {
   "cell_type": "code",
   "execution_count": 24,
   "id": "c13ab754",
   "metadata": {
    "execution": {
     "iopub.execute_input": "2025-08-13T22:51:01.632755Z",
     "iopub.status.busy": "2025-08-13T22:51:01.632447Z",
     "iopub.status.idle": "2025-08-13T22:51:02.136361Z",
     "shell.execute_reply": "2025-08-13T22:51:02.135271Z"
    },
    "papermill": {
     "duration": 0.522951,
     "end_time": "2025-08-13T22:51:02.138015",
     "exception": false,
     "start_time": "2025-08-13T22:51:01.615064",
     "status": "completed"
    },
    "tags": []
   },
   "outputs": [
    {
     "data": {
      "image/png": "[encoded data removed]",
      "text/plain": [
       "<Figure size 500x400 with 1 Axes>"
      ]
     },
     "metadata": {},
     "output_type": "display_data"
    },
    {
     "data": {
      "image/png": "[encoded data removed]",
      "text/plain": [
       "<Figure size 500x400 with 1 Axes>"
      ]
     },
     "metadata": {},
     "output_type": "display_data"
    },
    {
     "data": {
      "image/png": "[encoded data removed]",
      "text/plain": [
       "<Figure size 500x400 with 1 Axes>"
      ]
     },
     "metadata": {},
     "output_type": "display_data"
    }
   ],
   "source": [
    "categorical_features = ['sex', 'smoker', 'region']\n",
    "for c in categorical_features:\n",
    "    plt.figure(figsize=(5, 4))\n",
    "    sns.countplot(df, x=c)\n",
    "    plt.title(f'Distribution of {c}')\n",
    "    plt.show()"
   ]
  },
  {
   "cell_type": "markdown",
   "id": "5c720601",
   "metadata": {
    "papermill": {
     "duration": 0.023671,
     "end_time": "2025-08-13T22:51:02.182145",
     "exception": false,
     "start_time": "2025-08-13T22:51:02.158474",
     "status": "completed"
    },
    "tags": []
   },
   "source": [
    "## Encoding categorical variables\n",
    "We apply one-hot encoding:\n",
    "- Converts categorical features into binary columns.\n",
    "- Dropping the first column avoids multicollinearity, keeping n-1 columns for n categories while preserving all information."
   ]
  },
  {
   "cell_type": "code",
   "execution_count": 25,
   "id": "aad4485a",
   "metadata": {
    "execution": {
     "iopub.execute_input": "2025-08-13T22:51:02.219952Z",
     "iopub.status.busy": "2025-08-13T22:51:02.219083Z",
     "iopub.status.idle": "2025-08-13T22:51:02.237585Z",
     "shell.execute_reply": "2025-08-13T22:51:02.236649Z"
    },
    "papermill": {
     "duration": 0.038666,
     "end_time": "2025-08-13T22:51:02.239334",
     "exception": false,
     "start_time": "2025-08-13T22:51:02.200668",
     "status": "completed"
    },
    "tags": []
   },
   "outputs": [
    {
     "data": {
      "text/html": [
       "<div>\n",
       "<style scoped>\n",
       "    .dataframe tbody tr th:only-of-type {\n",
       "        vertical-align: middle;\n",
       "    }\n",
       "\n",
       "    .dataframe tbody tr th {\n",
       "        vertical-align: top;\n",
       "    }\n",
       "\n",
       "    .dataframe thead th {\n",
       "        text-align: right;\n",
       "    }\n",
       "</style>\n",
       "<table border=\"1\" class=\"dataframe\">\n",
       "  <thead>\n",
       "    <tr style=\"text-align: right;\">\n",
       "      <th></th>\n",
       "      <th>age</th>\n",
       "      <th>bmi</th>\n",
       "      <th>children</th>\n",
       "      <th>charges</th>\n",
       "      <th>sex_male</th>\n",
       "      <th>smoker_yes</th>\n",
       "      <th>region_northwest</th>\n",
       "      <th>region_southeast</th>\n",
       "      <th>region_southwest</th>\n",
       "    </tr>\n",
       "  </thead>\n",
       "  <tbody>\n",
       "    <tr>\n",
       "      <th>0</th>\n",
       "      <td>19</td>\n",
       "      <td>27.900</td>\n",
       "      <td>0</td>\n",
       "      <td>16884.92400</td>\n",
       "      <td>0</td>\n",
       "      <td>1</td>\n",
       "      <td>0</td>\n",
       "      <td>0</td>\n",
       "      <td>1</td>\n",
       "    </tr>\n",
       "    <tr>\n",
       "      <th>1</th>\n",
       "      <td>18</td>\n",
       "      <td>33.770</td>\n",
       "      <td>1</td>\n",
       "      <td>1725.55230</td>\n",
       "      <td>1</td>\n",
       "      <td>0</td>\n",
       "      <td>0</td>\n",
       "      <td>1</td>\n",
       "      <td>0</td>\n",
       "    </tr>\n",
       "    <tr>\n",
       "      <th>2</th>\n",
       "      <td>28</td>\n",
       "      <td>33.000</td>\n",
       "      <td>3</td>\n",
       "      <td>4449.46200</td>\n",
       "      <td>1</td>\n",
       "      <td>0</td>\n",
       "      <td>0</td>\n",
       "      <td>1</td>\n",
       "      <td>0</td>\n",
       "    </tr>\n",
       "    <tr>\n",
       "      <th>3</th>\n",
       "      <td>33</td>\n",
       "      <td>22.705</td>\n",
       "      <td>0</td>\n",
       "      <td>21984.47061</td>\n",
       "      <td>1</td>\n",
       "      <td>0</td>\n",
       "      <td>1</td>\n",
       "      <td>0</td>\n",
       "      <td>0</td>\n",
       "    </tr>\n",
       "    <tr>\n",
       "      <th>4</th>\n",
       "      <td>32</td>\n",
       "      <td>28.880</td>\n",
       "      <td>0</td>\n",
       "      <td>3866.85520</td>\n",
       "      <td>1</td>\n",
       "      <td>0</td>\n",
       "      <td>1</td>\n",
       "      <td>0</td>\n",
       "      <td>0</td>\n",
       "    </tr>\n",
       "    <tr>\n",
       "      <th>...</th>\n",
       "      <td>...</td>\n",
       "      <td>...</td>\n",
       "      <td>...</td>\n",
       "      <td>...</td>\n",
       "      <td>...</td>\n",
       "      <td>...</td>\n",
       "      <td>...</td>\n",
       "      <td>...</td>\n",
       "      <td>...</td>\n",
       "    </tr>\n",
       "    <tr>\n",
       "      <th>1333</th>\n",
       "      <td>50</td>\n",
       "      <td>30.970</td>\n",
       "      <td>3</td>\n",
       "      <td>10600.54830</td>\n",
       "      <td>1</td>\n",
       "      <td>0</td>\n",
       "      <td>1</td>\n",
       "      <td>0</td>\n",
       "      <td>0</td>\n",
       "    </tr>\n",
       "    <tr>\n",
       "      <th>1334</th>\n",
       "      <td>18</td>\n",
       "      <td>31.920</td>\n",
       "      <td>0</td>\n",
       "      <td>2205.98080</td>\n",
       "      <td>0</td>\n",
       "      <td>0</td>\n",
       "      <td>0</td>\n",
       "      <td>0</td>\n",
       "      <td>0</td>\n",
       "    </tr>\n",
       "    <tr>\n",
       "      <th>1335</th>\n",
       "      <td>18</td>\n",
       "      <td>36.850</td>\n",
       "      <td>0</td>\n",
       "      <td>1629.83350</td>\n",
       "      <td>0</td>\n",
       "      <td>0</td>\n",
       "      <td>0</td>\n",
       "      <td>1</td>\n",
       "      <td>0</td>\n",
       "    </tr>\n",
       "    <tr>\n",
       "      <th>1336</th>\n",
       "      <td>21</td>\n",
       "      <td>25.800</td>\n",
       "      <td>0</td>\n",
       "      <td>2007.94500</td>\n",
       "      <td>0</td>\n",
       "      <td>0</td>\n",
       "      <td>0</td>\n",
       "      <td>0</td>\n",
       "      <td>1</td>\n",
       "    </tr>\n",
       "    <tr>\n",
       "      <th>1337</th>\n",
       "      <td>61</td>\n",
       "      <td>29.070</td>\n",
       "      <td>0</td>\n",
       "      <td>29141.36030</td>\n",
       "      <td>0</td>\n",
       "      <td>1</td>\n",
       "      <td>1</td>\n",
       "      <td>0</td>\n",
       "      <td>0</td>\n",
       "    </tr>\n",
       "  </tbody>\n",
       "</table>\n",
       "<p>1338 rows × 9 columns</p>\n",
       "</div>"
      ],
      "text/plain": [
       "      age     bmi  children      charges  sex_male  smoker_yes  \\\n",
       "0      19  27.900         0  16884.92400         0           1   \n",
       "1      18  33.770         1   1725.55230         1           0   \n",
       "2      28  33.000         3   4449.46200         1           0   \n",
       "3      33  22.705         0  21984.47061         1           0   \n",
       "4      32  28.880         0   3866.85520         1           0   \n",
       "...   ...     ...       ...          ...       ...         ...   \n",
       "1333   50  30.970         3  10600.54830         1           0   \n",
       "1334   18  31.920         0   2205.98080         0           0   \n",
       "1335   18  36.850         0   1629.83350         0           0   \n",
       "1336   21  25.800         0   2007.94500         0           0   \n",
       "1337   61  29.070         0  29141.36030         0           1   \n",
       "\n",
       "      region_northwest  region_southeast  region_southwest  \n",
       "0                    0                 0                 1  \n",
       "1                    0                 1                 0  \n",
       "2                    0                 1                 0  \n",
       "3                    1                 0                 0  \n",
       "4                    1                 0                 0  \n",
       "...                ...               ...               ...  \n",
       "1333                 1                 0                 0  \n",
       "1334                 0                 0                 0  \n",
       "1335                 0                 1                 0  \n",
       "1336                 0                 0                 1  \n",
       "1337                 1                 0                 0  \n",
       "\n",
       "[1338 rows x 9 columns]"
      ]
     },
     "execution_count": 25,
     "metadata": {},
     "output_type": "execute_result"
    }
   ],
   "source": [
    "df_encoded = pd.get_dummies(df, columns=categorical_features, drop_first=True, dtype=int)\n",
    "df_encoded"
   ]
  },
  {
   "cell_type": "markdown",
   "id": "4310618d",
   "metadata": {
    "papermill": {
     "duration": 0.017543,
     "end_time": "2025-08-13T22:51:02.274616",
     "exception": false,
     "start_time": "2025-08-13T22:51:02.257073",
     "status": "completed"
    },
    "tags": []
   },
   "source": [
    "## Split Data\n",
    "### After encoding, we split the data into features (X) and target (y = charges), then perform a train-test split (80/20)."
   ]
  },
  {
   "cell_type": "code",
   "execution_count": 26,
   "id": "7fc4173f",
   "metadata": {
    "execution": {
     "iopub.execute_input": "2025-08-13T22:51:02.310905Z",
     "iopub.status.busy": "2025-08-13T22:51:02.310617Z",
     "iopub.status.idle": "2025-08-13T22:51:02.323460Z",
     "shell.execute_reply": "2025-08-13T22:51:02.322403Z"
    },
    "papermill": {
     "duration": 0.033144,
     "end_time": "2025-08-13T22:51:02.325310",
     "exception": false,
     "start_time": "2025-08-13T22:51:02.292166",
     "status": "completed"
    },
    "tags": []
   },
   "outputs": [
    {
     "name": "stdout",
     "output_type": "stream",
     "text": [
      "Shape of X_train: (1070, 8)\n",
      "Shape of X_test: (268, 8)\n",
      "Shape of y_train: (1070,)\n",
      "Shape of y_test: (268,) \n",
      "\n",
      "Percentage of data in X_train: 0.7997010463378177\n",
      "Percentage of data in X_test: 0.20029895366218237\n",
      "Percentage of data in y_train: 0.7997010463378177\n",
      "Percentage of data in y_test: 0.20029895366218237\n"
     ]
    }
   ],
   "source": [
    "X = df_encoded.copy()\n",
    "y = X.pop('charges')\n",
    "X_train, X_test, y_train, y_test = train_test_split(X, y, test_size=0.2, random_state=1)\n",
    "print(f'Shape of X_train: {X_train.shape}')\n",
    "print(f'Shape of X_test: {X_test.shape}')\n",
    "print(f'Shape of y_train: {y_train.shape}')\n",
    "print(f'Shape of y_test: {y_test.shape} \\n')\n",
    "\n",
    "print(f'Percentage of data in X_train: {len(X_train)/len(df_encoded)}')\n",
    "print(f'Percentage of data in X_test: {len(X_test)/len(df_encoded)}')\n",
    "print(f'Percentage of data in y_train: {len(y_train)/len(df_encoded)}')\n",
    "print(f'Percentage of data in y_test: {len(y_test)/len(df_encoded)}')"
   ]
  },
  {
   "cell_type": "markdown",
   "id": "d354655f",
   "metadata": {
    "papermill": {
     "duration": 0.024621,
     "end_time": "2025-08-13T22:51:02.376766",
     "exception": false,
     "start_time": "2025-08-13T22:51:02.352145",
     "status": "completed"
    },
    "tags": []
   },
   "source": [
    "# Decision Tree Model Training for Regression purposes\n",
    "We use DecisionTreeRegressor to model the relationship between personal attributes and insurance charges.\n",
    "- Hyperparameter tuning with GridSearchCV:\n",
    "  - max_depth: controls the maximum depth of the tree (prevents overfitting).\n",
    "  - min_samples_leaf: ensures each leaf has a minimum number of samples for stability.\n",
    "- The best model is selected based on cross-validated R2 score."
   ]
  },
  {
   "cell_type": "code",
   "execution_count": 27,
   "id": "fd633fba",
   "metadata": {
    "execution": {
     "iopub.execute_input": "2025-08-13T22:51:02.419953Z",
     "iopub.status.busy": "2025-08-13T22:51:02.419647Z",
     "iopub.status.idle": "2025-08-13T22:51:03.494935Z",
     "shell.execute_reply": "2025-08-13T22:51:03.493856Z"
    },
    "papermill": {
     "duration": 1.099665,
     "end_time": "2025-08-13T22:51:03.496816",
     "exception": false,
     "start_time": "2025-08-13T22:51:02.397151",
     "status": "completed"
    },
    "tags": []
   },
   "outputs": [
    {
     "name": "stdout",
     "output_type": "stream",
     "text": [
      "Best score: 0.8461702022100763\n",
      "Best Parameters: {'max_depth': 4, 'min_samples_leaf': 10}\n"
     ]
    }
   ],
   "source": [
    "reg = DecisionTreeRegressor(random_state=1)\n",
    "from sklearn.model_selection import GridSearchCV\n",
    "param_grid = {'max_depth': np.arange(1, 10), 'min_samples_leaf': [1, 3, 5, 10, 20]}\n",
    "gs = GridSearchCV(reg, param_grid=param_grid, scoring='r2', cv=5)\n",
    "gs.fit(X_train, y_train)\n",
    "print(f'Best score: {gs.best_score_}\\nBest Parameters: {gs.best_params_}')"
   ]
  },
  {
   "cell_type": "markdown",
   "id": "127b43b7",
   "metadata": {
    "papermill": {
     "duration": 0.017736,
     "end_time": "2025-08-13T22:51:03.532442",
     "exception": false,
     "start_time": "2025-08-13T22:51:03.514706",
     "status": "completed"
    },
    "tags": []
   },
   "source": [
    "## Model Evaluation\n",
    "We evaluate performance on the test set using:\n",
    "- R2 score - proportion of variance explained by the model.\n",
    "- RMSE (Root Mean Squared Error) - average prediction error magnitude.\n",
    "- MAE (Mean Absolute Error) – average absolute error.\n",
    "- Maximum Error – largest single prediction error.\n",
    "\n",
    "We also visualize residuals (errors) with a histogram to check for bias or skewness."
   ]
  },
  {
   "cell_type": "code",
   "execution_count": 28,
   "id": "5e12b0cc",
   "metadata": {
    "execution": {
     "iopub.execute_input": "2025-08-13T22:51:03.569672Z",
     "iopub.status.busy": "2025-08-13T22:51:03.569328Z",
     "iopub.status.idle": "2025-08-13T22:51:03.580591Z",
     "shell.execute_reply": "2025-08-13T22:51:03.579406Z"
    },
    "papermill": {
     "duration": 0.03187,
     "end_time": "2025-08-13T22:51:03.582024",
     "exception": false,
     "start_time": "2025-08-13T22:51:03.550154",
     "status": "completed"
    },
    "tags": []
   },
   "outputs": [
    {
     "name": "stdout",
     "output_type": "stream",
     "text": [
      "Train R2: 0.8704619474529574\n",
      "Test RMSE: 4397.445092104791\n",
      "Test MAE: 2537.4130330212465\n",
      "Maximum Error: 24438.266688748503\n"
     ]
    }
   ],
   "source": [
    "best_model = gs.best_estimator_\n",
    "y_pred = best_model.predict(X_test)\n",
    "\n",
    "print('Train R2:', r2_score(y_test, y_pred))\n",
    "print('Test RMSE:', np.sqrt(mean_squared_error(y_test, y_pred)))\n",
    "print('Test MAE:', mean_absolute_error(y_test, y_pred))\n",
    "print('Maximum Error:', max_error(y_test, y_pred))"
   ]
  },
  {
   "cell_type": "code",
   "execution_count": 29,
   "id": "da64f1f8",
   "metadata": {
    "execution": {
     "iopub.execute_input": "2025-08-13T22:51:03.619784Z",
     "iopub.status.busy": "2025-08-13T22:51:03.619466Z",
     "iopub.status.idle": "2025-08-13T22:51:03.888755Z",
     "shell.execute_reply": "2025-08-13T22:51:03.887878Z"
    },
    "papermill": {
     "duration": 0.289394,
     "end_time": "2025-08-13T22:51:03.890149",
     "exception": false,
     "start_time": "2025-08-13T22:51:03.600755",
     "status": "completed"
    },
    "tags": []
   },
   "outputs": [
    {
     "name": "stderr",
     "output_type": "stream",
     "text": [
      "/usr/local/lib/python3.11/dist-packages/seaborn/_oldcore.py:1119: FutureWarning: use_inf_as_na option is deprecated and will be removed in a future version. Convert inf values to NaN before operating instead.\n",
      "  with pd.option_context('mode.use_inf_as_na', True):\n"
     ]
    },
    {
     "data": {
      "image/png": "[encoded data removed]",
      "text/plain": [
       "<Figure size 800x500 with 1 Axes>"
      ]
     },
     "metadata": {},
     "output_type": "display_data"
    }
   ],
   "source": [
    "residuals = y_test - y_pred\n",
    "\n",
    "plt.figure(figsize=(8,5))\n",
    "sns.histplot(residuals, bins=20, kde=True)\n",
    "plt.axvline(0, color='red', linestyle='--', linewidth=1)\n",
    "plt.title(\"Distribution of Residuals\")\n",
    "plt.xlabel(\"Error (y_true - y_pred)\")\n",
    "plt.ylabel(\"Count\")\n",
    "plt.show()"
   ]
  },
  {
   "cell_type": "markdown",
   "id": "a4d5edc7",
   "metadata": {
    "papermill": {
     "duration": 0.019231,
     "end_time": "2025-08-13T22:51:03.929237",
     "exception": false,
     "start_time": "2025-08-13T22:51:03.910006",
     "status": "completed"
    },
    "tags": []
   },
   "source": [
    "## Feature Importance\n",
    "Decision trees provide feature importance, indicating how much each feature contributes to reducing prediction error:\n",
    "- smoker_yes typically has the highest importance (predictably strong impact on charges),\n",
    "- numeric features like age and bmi also play a major role.\n",
    "\n",
    "We visualize the top features with a horizontal bar plot."
   ]
  },
  {
   "cell_type": "code",
   "execution_count": 30,
   "id": "b895767d",
   "metadata": {
    "execution": {
     "iopub.execute_input": "2025-08-13T22:51:03.968740Z",
     "iopub.status.busy": "2025-08-13T22:51:03.968443Z",
     "iopub.status.idle": "2025-08-13T22:51:03.976714Z",
     "shell.execute_reply": "2025-08-13T22:51:03.975699Z"
    },
    "papermill": {
     "duration": 0.029963,
     "end_time": "2025-08-13T22:51:03.978458",
     "exception": false,
     "start_time": "2025-08-13T22:51:03.948495",
     "status": "completed"
    },
    "tags": []
   },
   "outputs": [
    {
     "data": {
      "text/plain": [
       "smoker_yes          0.717381\n",
       "bmi                 0.165313\n",
       "age                 0.113912\n",
       "children            0.003394\n",
       "sex_male            0.000000\n",
       "region_northwest    0.000000\n",
       "region_southeast    0.000000\n",
       "region_southwest    0.000000\n",
       "dtype: float64"
      ]
     },
     "execution_count": 30,
     "metadata": {},
     "output_type": "execute_result"
    }
   ],
   "source": [
    "importances = pd.Series(best_model.feature_importances_, index=X.columns)\n",
    "importances = importances.sort_values(ascending=False)\n",
    "importances"
   ]
  },
  {
   "cell_type": "code",
   "execution_count": 31,
   "id": "96f23076",
   "metadata": {
    "execution": {
     "iopub.execute_input": "2025-08-13T22:51:04.019379Z",
     "iopub.status.busy": "2025-08-13T22:51:04.018670Z",
     "iopub.status.idle": "2025-08-13T22:51:04.207341Z",
     "shell.execute_reply": "2025-08-13T22:51:04.206256Z"
    },
    "papermill": {
     "duration": 0.211597,
     "end_time": "2025-08-13T22:51:04.208898",
     "exception": false,
     "start_time": "2025-08-13T22:51:03.997301",
     "status": "completed"
    },
    "tags": []
   },
   "outputs": [
    {
     "data": {
      "image/png": "[encoded data removed]",
      "text/plain": [
       "<Figure size 800x600 with 1 Axes>"
      ]
     },
     "metadata": {},
     "output_type": "display_data"
    }
   ],
   "source": [
    "plt.figure(figsize=(8,6))\n",
    "sns.barplot(x=importances, y=importances.index)\n",
    "plt.title(\"Feature Importance\")\n",
    "plt.show()"
   ]
  },
  {
   "cell_type": "markdown",
   "id": "47276d62",
   "metadata": {
    "papermill": {
     "duration": 0.021121,
     "end_time": "2025-08-13T22:51:04.249488",
     "exception": false,
     "start_time": "2025-08-13T22:51:04.228367",
     "status": "completed"
    },
    "tags": []
   },
   "source": [
    "## Overfitting and Tree Depth\n",
    "Finally, we analyze model performance vs tree depth:\n",
    "- Shallow trees -> underfitting (low training and test scores).\n",
    "- Deep trees -> overfitting (high training score but lower test score).\n",
    "\n",
    "The plot of R2 vs max depth helps select a depth that balances bias and variance."
   ]
  },
  {
   "cell_type": "code",
   "execution_count": 32,
   "id": "5b330d10",
   "metadata": {
    "execution": {
     "iopub.execute_input": "2025-08-13T22:51:04.290701Z",
     "iopub.status.busy": "2025-08-13T22:51:04.290412Z",
     "iopub.status.idle": "2025-08-13T22:51:04.660128Z",
     "shell.execute_reply": "2025-08-13T22:51:04.659057Z"
    },
    "papermill": {
     "duration": 0.3926,
     "end_time": "2025-08-13T22:51:04.662291",
     "exception": false,
     "start_time": "2025-08-13T22:51:04.269691",
     "status": "completed"
    },
    "tags": []
   },
   "outputs": [
    {
     "data": {
      "image/png": "[encoded data removed]",
      "text/plain": [
       "<Figure size 640x480 with 1 Axes>"
      ]
     },
     "metadata": {},
     "output_type": "display_data"
    }
   ],
   "source": [
    "train_scores = []\n",
    "test_scores = []\n",
    "depths = range(1, 25)\n",
    "\n",
    "for d in depths:\n",
    "    model = DecisionTreeRegressor(max_depth=d, random_state=1)\n",
    "    model.fit(X_train, y_train)\n",
    "    train_scores.append(model.score(X_train, y_train))\n",
    "    test_scores.append(model.score(X_test, y_test))\n",
    "\n",
    "plt.plot(depths, train_scores, label=\"Train R2\")\n",
    "plt.plot(depths, test_scores, label=\"Test R2\")\n",
    "plt.xlabel(\"Max Depth\")\n",
    "plt.ylabel(\"R2 Score\")\n",
    "plt.legend()\n",
    "plt.title(\"Model Performance vs Tree Depth\")\n",
    "plt.show()\n"
   ]
  },
  {
   "cell_type": "markdown",
   "id": "524db080",
   "metadata": {
    "papermill": {
     "duration": 0.020696,
     "end_time": "2025-08-13T22:51:04.703669",
     "exception": false,
     "start_time": "2025-08-13T22:51:04.682973",
     "status": "completed"
    },
    "tags": []
   },
   "source": [
    "# Summary & Tips\n",
    "- Decision Trees handle both numerical and categorical features.\n",
    "- One-hot encoding is essential for categorical data.\n",
    "- Hyperparameter tuning (max_depth, min_samples_leaf) is crucial to avoid overfitting.\n",
    "- Feature importance provides interpretable insights about which variables drive the target prediction.\n",
    "- Residual analysis ensures that predictions are reasonable and errors are randomly distributed.\n",
    "\n",
    "Decision Trees are a versatile and interpretable machine learning method, capable of handling both classification and regression tasks without the need for feature scaling. They offer clear decision rules that can be visualized and understood even by non-technical stakeholders. However, they are prone to overfitting, especially when grown deep without constraints. Careful tuning of parameters such as max_depth and min_samples_leaf can significantly improve generalization.\n",
    "\n",
    "Thank you for taking the time to go through this notebook. I hope it provided you with both the theoretical understanding and the practical skills needed to effectively apply decision trees in your own projects :)"
   ]
  }
 ],
 "metadata": {
  "kaggle": {
   "accelerator": "none",
   "dataSources": [
    {
     "datasetId": 478,
     "sourceId": 974,
     "sourceType": "datasetVersion"
    },
    {
     "datasetId": 13720,
     "sourceId": 18513,
     "sourceType": "datasetVersion"
    }
   ],
   "dockerImageVersionId": 31089,
   "isGpuEnabled": false,
   "isInternetEnabled": true,
   "language": "python",
   "sourceType": "notebook"
  },
  "kernelspec": {
   "display_name": "Python 3",
   "language": "python",
   "name": "python3"
  },
  "language_info": {
   "codemirror_mode": {
    "name": "ipython",
    "version": 3
   },
   "file_extension": ".py",
   "mimetype": "text/x-python",
   "name": "python",
   "nbconvert_exporter": "python",
   "pygments_lexer": "ipython3",
   "version": "3.11.13"
  },
  "papermill": {
   "default_parameters": {},
   "duration": 19.792042,
   "end_time": "2025-08-13T22:51:05.445326",
   "environment_variables": {},
   "exception": null,
   "input_path": "__notebook__.ipynb",
   "output_path": "__notebook__.ipynb",
   "parameters": {},
   "start_time": "2025-08-13T22:50:45.653284",
   "version": "2.6.0"
  }
 },
 "nbformat": 4,
 "nbformat_minor": 5
}
